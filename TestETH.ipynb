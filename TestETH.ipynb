{
  "cells": [
    {
      "cell_type": "code",
      "source": [
        "_ = ! pip install web3"
      ],
      "metadata": {
        "id": "ubPbGDUdGX2z"
      },
      "id": "ubPbGDUdGX2z",
      "execution_count": 33,
      "outputs": []
    },
    {
      "cell_type": "code",
      "execution_count": 81,
      "id": "7c2e8cfe-f682-4637-9f73-5dce6e44815d",
      "metadata": {
        "id": "7c2e8cfe-f682-4637-9f73-5dce6e44815d"
      },
      "outputs": [],
      "source": [
        "import os, sys\n",
        "\n",
        "from datetime import datetime, timedelta\n",
        "import time\n",
        "\n",
        "import requests, json\n",
        "from web3 import Web3, HTTPProvider\n",
        "\n",
        "from eth_utils import to_bytes\n",
        "from eth_keys import keys\n",
        "from eth_account import Account\n",
        "from eth_account.messages import SignableMessage"
      ]
    },
    {
      "cell_type": "code",
      "execution_count": 82,
      "id": "76ba902b-fa11-4b50-9c1e-f27f7a67802b",
      "metadata": {
        "id": "76ba902b-fa11-4b50-9c1e-f27f7a67802b"
      },
      "outputs": [],
      "source": [
        "w3 = Web3(HTTPProvider(\"https://rpc.ankr.com/eth/1e5f9fd3e49ecec581e00815ea1eb41bc459248fd3dcf67716ff3237cc3ab68b\"))\n",
        "# https://1rpc.io/eth"
      ]
    },
    {
      "cell_type": "code",
      "execution_count": 83,
      "id": "3cce77e3-4f4e-45e0-81a5-69616ecfb63e",
      "metadata": {
        "id": "3cce77e3-4f4e-45e0-81a5-69616ecfb63e"
      },
      "outputs": [],
      "source": [
        "source_token = \"0x1f9840a85d5af5bf1d1762f925bdaddc4201f984\" # UniSwap\n",
        "destination_token = \"0xdac17f958d2ee523a2206206994597c13d831ec7\" # USDT\n",
        "\n",
        "source_amount = 1000000000000000000\n",
        "slippage = int(0.05 * 10000) # Convert to bps"
      ]
    },
    {
      "cell_type": "code",
      "execution_count": 86,
      "id": "9c0b224a-1ed8-4f4a-8798-4bf972d6a2bd",
      "metadata": {
        "id": "9c0b224a-1ed8-4f4a-8798-4bf972d6a2bd"
      },
      "outputs": [],
      "source": [
        "eth_wallet = Account.from_key(\"e5ecbcfc71ad24a2131953ef9a66e4b7ed8ca9a10ffd92104e106fab1f0af4f7\")"
      ]
    },
    {
      "cell_type": "code",
      "execution_count": 87,
      "id": "fb00328b-4411-4c41-af95-8b02367521aa",
      "metadata": {
        "id": "fb00328b-4411-4c41-af95-8b02367521aa"
      },
      "outputs": [],
      "source": [
        "# 0.  One fresh quote – DO NOT fetch another one before sending\n",
        "quote  = requests.get(\n",
        "    \"https://api.0x.org/swap/permit2/quote\",\n",
        "    params={\n",
        "        \"chainId\": 1,\n",
        "        \"sellToken\": source_token,\n",
        "        \"buyToken\":  destination_token,\n",
        "        \"sellAmount\": source_amount,\n",
        "        \"taker\": eth_wallet.address,\n",
        "        \"slippageBps\": slippage,\n",
        "    },\n",
        "    headers={\n",
        "        \"0x-version\" : \"v2\",\n",
        "        \"0x-api-key\" : \"50cbb531-4fda-4464-acb4-5e6b5bf0e2d6\"\n",
        "    },\n",
        "    timeout=10,\n",
        ").json()"
      ]
    },
    {
      "cell_type": "code",
      "source": [
        "ERC20_ABI: list[dict] = [\n",
        "    {\n",
        "        \"constant\": True,\n",
        "        \"inputs\": [{\"name\": \"owner\", \"type\": \"address\"}],\n",
        "        \"name\": \"balanceOf\",\n",
        "        \"outputs\": [{\"name\": \"balance\", \"type\": \"uint256\"}],\n",
        "        \"type\": \"function\",\n",
        "    },\n",
        "    {\n",
        "        \"constant\": True,\n",
        "        \"inputs\": [],\n",
        "        \"name\": \"decimals\",\n",
        "        \"outputs\": [{\"name\": \"\", \"type\": \"uint8\"}],\n",
        "        \"type\": \"function\",\n",
        "    },\n",
        "]\n",
        "\n",
        "erc20 = w3.eth.contract(address=Web3.to_checksum_address(source_token), abi=ERC20_ABI)\n",
        "\n",
        "sell_amount   = int(quote[\"sellAmount\"])\n",
        "permit_amount = int(quote[\"permit2\"][\"eip712\"][\"message\"][\"permitted\"][\"amount\"])\n",
        "owner_balance = int(erc20.functions.balanceOf(eth_wallet.address).call())\n",
        "\n",
        "print (\"sellAmount        :\", sell_amount)\n",
        "print (\"permit.amount     :\", permit_amount)\n",
        "print (\"wallet UNI balance:\", owner_balance)\n",
        "print ()\n",
        "print (\"gas fee:\", (1.0e-18) * int(quote['transaction']['gas']) * int(quote['transaction']['gasPrice']), \"ETH\")"
      ],
      "metadata": {
        "colab": {
          "base_uri": "https://localhost:8080/"
        },
        "id": "n56iixR1Imb8",
        "outputId": "25b339d8-1b23-4ab5-dd54-bcfe0f938be5"
      },
      "id": "n56iixR1Imb8",
      "execution_count": 88,
      "outputs": [
        {
          "output_type": "stream",
          "name": "stdout",
          "text": [
            "sellAmount        : 1000000000000000000\n",
            "permit.amount     : 1000000000000000000\n",
            "wallet UNI balance: 57116026654249141437\n",
            "\n",
            "gas fee: 0.00047935132397940904 ETH\n"
          ]
        }
      ]
    },
    {
      "cell_type": "code",
      "source": [
        "digest = bytes.fromhex(quote[\"permit2\"][\"hash\"][2:])\n",
        "priv   = keys.PrivateKey(eth_wallet.key)\n",
        "sig    = priv.sign_msg_hash(digest)\n",
        "\n",
        "sig_bytes = sig.to_bytes()\n",
        "if sig_bytes[-1] in (0, 1):  # old eth-keys\n",
        "    sig_bytes = sig_bytes[:-1] + bytes([sig_bytes[-1] + 27])\n",
        "\n",
        "data_hex = quote[\"transaction\"][\"data\"]\n",
        "data     = bytes.fromhex(data_hex[2:])\n",
        "\n",
        "zero97 = b\"\\x00\" * (32 + 65)\n",
        "i = data.rfind(zero97)\n",
        "if i == -1:\n",
        "    raise ValueError(\"Permit2 placeholder not found – API layout changed?\")\n",
        "\n",
        "patched = (\n",
        "    data[:i]\n",
        "    + len(sig_bytes).to_bytes(32, \"big\")  # 65\n",
        "    + sig_bytes\n",
        "    + data[i + len(zero97):]\n",
        ")\n",
        "\n",
        "calldata = \"0x\" + patched.hex()\n",
        "\n",
        "# Sanity checks\n",
        "assert len(sig_bytes) == 65\n",
        "assert int.from_bytes(patched[i:i+32], \"big\") == 65, \"length word != 65\"\n",
        "assert patched.rfind(zero97) < i, \"another zero placeholder remains after injected signature\""
      ],
      "metadata": {
        "id": "7jwL4sasSVLu"
      },
      "id": "7jwL4sasSVLu",
      "execution_count": null,
      "outputs": []
    },
    {
      "cell_type": "code",
      "source": [],
      "metadata": {
        "id": "apg6JUbsIFc1"
      },
      "id": "apg6JUbsIFc1",
      "execution_count": null,
      "outputs": []
    },
    {
      "cell_type": "code",
      "execution_count": 93,
      "id": "7d86b4cb-2be2-4eaf-a37f-a0569bc83564",
      "metadata": {
        "id": "7d86b4cb-2be2-4eaf-a37f-a0569bc83564"
      },
      "outputs": [],
      "source": [
        "# 4. Build, sign, send\n",
        "tx: dict = {\n",
        "    \"chainId\":  1,\n",
        "    \"to\":       Web3.to_checksum_address(quote[\"transaction\"][\"to\"]),\n",
        "    \"data\":     Web3.to_hex(calldata),\n",
        "    \"value\":    int(quote[\"transaction\"][\"value\"]),\n",
        "    \"gas\":      int(quote[\"transaction\"][\"gas\"]),\n",
        "    \"nonce\":    w3.eth.get_transaction_count(eth_wallet.address),\n",
        "}\n",
        "\n",
        "# Prefer EIP-1559 if present\n",
        "if (\"maxFeePerGas\" in quote[\"transaction\"]) and (\"maxPriorityFeePerGas\" in quote[\"transaction\"]):\n",
        "    tx[\"type\"] = 2\n",
        "    tx[\"maxFeePerGas\"] = int(quote[\"transaction\"][\"maxFeePerGas\"])\n",
        "    tx[\"maxPriorityFeePerGas\"] = int(quote[\"transaction\"][\"maxPriorityFeePerGas\"])\n",
        "else:\n",
        "    tx[\"gasPrice\"] = int(quote[\"transaction\"][\"gasPrice\"])\n",
        "\n",
        "# Pass through optional fields\n",
        "if \"accessList\" in quote[\"transaction\"]:\n",
        "    tx[\"accessList\"] = quote[\"transaction\"][\"accessList\"]\n",
        "\n",
        "# Only for eth_call / estimateGas preflight\n",
        "tx = dict(tx, **{\"from\": eth_wallet.address})\n",
        "\n",
        "tx_signed = eth_wallet.sign_transaction(tx)\n",
        "tx_hash = w3.eth.send_raw_transaction(tx_signed.raw_transaction)"
      ]
    },
    {
      "cell_type": "code",
      "execution_count": 94,
      "id": "491f3e0f-72d4-4b95-bd0e-a304b3cbb433",
      "metadata": {
        "colab": {
          "base_uri": "https://localhost:8080/"
        },
        "id": "491f3e0f-72d4-4b95-bd0e-a304b3cbb433",
        "outputId": "449bfb81-3de6-4fac-8f86-0fe2d9dc8f5e"
      },
      "outputs": [
        {
          "output_type": "stream",
          "name": "stdout",
          "text": [
            "↗ broadcast : 0x6162d10acd4d7be28a5680f570c1acee7023d780c15f3839124b5b0ef9f6b75c\n",
            "⏳ waiting …\n",
            "✅ status   : 0\n"
          ]
        }
      ],
      "source": [
        "# 5. Check result\n",
        "tx_hex = w3.to_hex(tx_hash)\n",
        "\n",
        "print(\"↗ broadcast :\", tx_hex)\n",
        "print(\"⏳ waiting …\")\n",
        "print(\"✅ status   :\", w3.eth.wait_for_transaction_receipt(tx_hash).status)  # 1 = success"
      ]
    },
    {
      "cell_type": "code",
      "execution_count": 95,
      "id": "f264a394-2fa0-4304-bcab-d6917affb3fb",
      "metadata": {
        "colab": {
          "base_uri": "https://localhost:8080/"
        },
        "id": "f264a394-2fa0-4304-bcab-d6917affb3fb",
        "outputId": "31f93d7c-04a7-46ce-f1a3-2b452a2d300c"
      },
      "outputs": [
        {
          "output_type": "stream",
          "name": "stdout",
          "text": [
            "https://eth.blockscout.com/tx/0x6162d10acd4d7be28a5680f570c1acee7023d780c15f3839124b5b0ef9f6b75c\n"
          ]
        }
      ],
      "source": [
        "print (\"https://eth.blockscout.com/tx/\" + tx_hex)"
      ]
    },
    {
      "cell_type": "markdown",
      "source": [],
      "metadata": {
        "id": "zucifMA6Jg-p"
      },
      "id": "zucifMA6Jg-p"
    },
    {
      "cell_type": "code",
      "source": [
        "quote"
      ],
      "metadata": {
        "id": "Aw_V5yA2YYqj",
        "colab": {
          "base_uri": "https://localhost:8080/"
        },
        "outputId": "52833fd7-b768-4874-9b6e-df833989284b"
      },
      "id": "Aw_V5yA2YYqj",
      "execution_count": 96,
      "outputs": [
        {
          "output_type": "execute_result",
          "data": {
            "text/plain": [
              "{'blockNumber': '22991588',\n",
              " 'buyAmount': '10431648',\n",
              " 'buyToken': '0xdac17f958d2ee523a2206206994597c13d831ec7',\n",
              " 'fees': {'integratorFee': None,\n",
              "  'zeroExFee': {'amount': '15674',\n",
              "   'token': '0xdac17f958d2ee523a2206206994597c13d831ec7',\n",
              "   'type': 'volume'},\n",
              "  'gasFee': None},\n",
              " 'issues': {'allowance': {'actual': '0',\n",
              "   'spender': '0x000000000022d473030f116ddee9f6b43ac78ba3'},\n",
              "  'balance': None,\n",
              "  'simulationIncomplete': False,\n",
              "  'invalidSourcesPassed': []},\n",
              " 'liquidityAvailable': True,\n",
              " 'minBuyAmount': '9910692',\n",
              " 'permit2': {'type': 'Permit2',\n",
              "  'hash': '0x6fe93002f53146ea1679781b442ee8b551afad6e8a626d953a86f33b2be5d2f2',\n",
              "  'eip712': {'types': {'PermitTransferFrom': [{'name': 'permitted',\n",
              "      'type': 'TokenPermissions'},\n",
              "     {'name': 'spender', 'type': 'address'},\n",
              "     {'name': 'nonce', 'type': 'uint256'},\n",
              "     {'name': 'deadline', 'type': 'uint256'}],\n",
              "    'TokenPermissions': [{'name': 'token', 'type': 'address'},\n",
              "     {'name': 'amount', 'type': 'uint256'}],\n",
              "    'EIP712Domain': [{'name': 'name', 'type': 'string'},\n",
              "     {'name': 'chainId', 'type': 'uint256'},\n",
              "     {'name': 'verifyingContract', 'type': 'address'}]},\n",
              "   'domain': {'name': 'Permit2',\n",
              "    'chainId': 1,\n",
              "    'verifyingContract': '0x000000000022d473030f116ddee9f6b43ac78ba3'},\n",
              "   'message': {'permitted': {'token': '0x1f9840a85d5af5bf1d1762f925bdaddc4201f984',\n",
              "     'amount': '1000000000000000000'},\n",
              "    'spender': '0xdf31a70a21a1931e02033dbba7deace6c45cfd0f',\n",
              "    'nonce': '2241959297937691820908574931991822',\n",
              "    'deadline': '1753391507'},\n",
              "   'primaryType': 'PermitTransferFrom'}},\n",
              " 'route': {'fills': [{'from': '0x1f9840a85d5af5bf1d1762f925bdaddc4201f984',\n",
              "    'to': '0xa0b86991c6218b36c1d19d4a2e9eb0ce3606eb48',\n",
              "    'source': 'Uniswap_V3',\n",
              "    'proportionBps': '10000'},\n",
              "   {'from': '0xa0b86991c6218b36c1d19d4a2e9eb0ce3606eb48',\n",
              "    'to': '0x2260fac5e5542a773aa44fbcfedf7c193bc2c599',\n",
              "    'source': 'Curve',\n",
              "    'proportionBps': '10000'},\n",
              "   {'from': '0x2260fac5e5542a773aa44fbcfedf7c193bc2c599',\n",
              "    'to': '0xc02aaa39b223fe8d0a0e5c4f27ead9083c756cc2',\n",
              "    'source': 'ShibaSwap',\n",
              "    'proportionBps': '10000'},\n",
              "   {'from': '0xc02aaa39b223fe8d0a0e5c4f27ead9083c756cc2',\n",
              "    'to': '0xdac17f958d2ee523a2206206994597c13d831ec7',\n",
              "    'source': 'Uniswap_V3',\n",
              "    'proportionBps': '10000'}],\n",
              "  'tokens': [{'address': '0x1f9840a85d5af5bf1d1762f925bdaddc4201f984',\n",
              "    'symbol': 'UNI'},\n",
              "   {'address': '0xa0b86991c6218b36c1d19d4a2e9eb0ce3606eb48', 'symbol': 'USDC'},\n",
              "   {'address': '0x2260fac5e5542a773aa44fbcfedf7c193bc2c599', 'symbol': 'WBTC'},\n",
              "   {'address': '0xc02aaa39b223fe8d0a0e5c4f27ead9083c756cc2', 'symbol': 'WETH'},\n",
              "   {'address': '0xdac17f958d2ee523a2206206994597c13d831ec7',\n",
              "    'symbol': 'USDT'}]},\n",
              " 'sellAmount': '1000000000000000000',\n",
              " 'sellToken': '0x1f9840a85d5af5bf1d1762f925bdaddc4201f984',\n",
              " 'tokenMetadata': {'buyToken': {'buyTaxBps': '0', 'sellTaxBps': '0'},\n",
              "  'sellToken': {'buyTaxBps': '0', 'sellTaxBps': '0'}},\n",
              " 'totalNetworkFee': '479351323979409',\n",
              " 'transaction': {'to': '0xdf31a70a21a1931e02033dbba7deace6c45cfd0f',\n",
              "  'data': '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',\n",
              "  'gas': '681189',\n",
              "  'gasPrice': '703697981',\n",
              "  'value': '0'},\n",
              " 'zid': '0xfacefc68d315e69f018ddc43'}"
            ]
          },
          "metadata": {},
          "execution_count": 96
        }
      ]
    }
  ],
  "metadata": {
    "kernelspec": {
      "display_name": "Python 3 (ipykernel)",
      "language": "python",
      "name": "python3"
    },
    "language_info": {
      "codemirror_mode": {
        "name": "ipython",
        "version": 3
      },
      "file_extension": ".py",
      "mimetype": "text/x-python",
      "name": "python",
      "nbconvert_exporter": "python",
      "pygments_lexer": "ipython3",
      "version": "3.12.4"
    },
    "colab": {
      "provenance": []
    }
  },
  "nbformat": 4,
  "nbformat_minor": 5
}