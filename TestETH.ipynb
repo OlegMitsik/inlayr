{
  "cells": [
    {
      "cell_type": "code",
      "source": [
        "_ = ! pip install web3"
      ],
      "metadata": {
        "id": "ubPbGDUdGX2z"
      },
      "id": "ubPbGDUdGX2z",
      "execution_count": 1,
      "outputs": []
    },
    {
      "cell_type": "code",
      "execution_count": 2,
      "id": "7c2e8cfe-f682-4637-9f73-5dce6e44815d",
      "metadata": {
        "id": "7c2e8cfe-f682-4637-9f73-5dce6e44815d"
      },
      "outputs": [],
      "source": [
        "import os, sys\n",
        "\n",
        "from datetime import datetime, timedelta\n",
        "import time\n",
        "\n",
        "import requests, json\n",
        "from web3 import Web3, HTTPProvider\n",
        "\n",
        "from eth_utils import to_bytes\n",
        "from eth_keys import keys\n",
        "from eth_account import Account\n",
        "from eth_account.messages import SignableMessage"
      ]
    },
    {
      "cell_type": "code",
      "execution_count": 3,
      "id": "76ba902b-fa11-4b50-9c1e-f27f7a67802b",
      "metadata": {
        "id": "76ba902b-fa11-4b50-9c1e-f27f7a67802b"
      },
      "outputs": [],
      "source": [
        "w3 = Web3(HTTPProvider(\"https://rpc.ankr.com/eth/1e5f9fd3e49ecec581e00815ea1eb41bc459248fd3dcf67716ff3237cc3ab68b\"))\n",
        "# https://1rpc.io/eth"
      ]
    },
    {
      "cell_type": "code",
      "execution_count": 4,
      "id": "3cce77e3-4f4e-45e0-81a5-69616ecfb63e",
      "metadata": {
        "id": "3cce77e3-4f4e-45e0-81a5-69616ecfb63e"
      },
      "outputs": [],
      "source": [
        "source_token = \"0x1f9840a85d5af5bf1d1762f925bdaddc4201f984\" # UniSwap\n",
        "destination_token = \"0xdac17f958d2ee523a2206206994597c13d831ec7\" # USDT\n",
        "\n",
        "source_amount = 1000000000000000000\n",
        "slippage = int(0.05 * 10000) # Convert to bps"
      ]
    },
    {
      "cell_type": "code",
      "execution_count": 28,
      "id": "9c0b224a-1ed8-4f4a-8798-4bf972d6a2bd",
      "metadata": {
        "id": "9c0b224a-1ed8-4f4a-8798-4bf972d6a2bd"
      },
      "outputs": [],
      "source": [
        "eth_wallet = Account.from_key(\"e5ecbcfc71ad24a2131953ef9a66e4b7ed8ca9a10ffd92104e106fab1f0af4f7\")"
      ]
    },
    {
      "cell_type": "code",
      "execution_count": 31,
      "id": "fb00328b-4411-4c41-af95-8b02367521aa",
      "metadata": {
        "id": "fb00328b-4411-4c41-af95-8b02367521aa"
      },
      "outputs": [],
      "source": [
        "# 0.  One fresh quote – DO NOT fetch another one before sending\n",
        "quote  = requests.get(\n",
        "    \"https://api.0x.org/swap/allowance-holder/quote\",\n",
        "    params={\n",
        "        \"chainId\": 1,\n",
        "        \"sellToken\": source_token,\n",
        "        \"buyToken\":  destination_token,\n",
        "        \"sellAmount\": source_amount,\n",
        "        \"taker\": eth_wallet.address,\n",
        "        \"slippageBps\": slippage,\n",
        "    },\n",
        "    headers={\n",
        "        \"0x-version\" : \"v2\",\n",
        "        \"0x-api-key\" : \"50cbb531-4fda-4464-acb4-5e6b5bf0e2d6\"\n",
        "    },\n",
        "    timeout=10,\n",
        ").json()"
      ]
    },
    {
      "cell_type": "code",
      "source": [
        "ERC20_ABI: list[dict] = [\n",
        "    {\n",
        "        \"constant\": True,\n",
        "        \"inputs\": [{\"name\": \"owner\", \"type\": \"address\"}],\n",
        "        \"name\": \"balanceOf\",\n",
        "        \"outputs\": [{\"name\": \"balance\", \"type\": \"uint256\"}],\n",
        "        \"type\": \"function\",\n",
        "    },\n",
        "    {\n",
        "        \"constant\": True,\n",
        "        \"inputs\": [],\n",
        "        \"name\": \"decimals\",\n",
        "        \"outputs\": [{\"name\": \"\", \"type\": \"uint8\"}],\n",
        "        \"type\": \"function\",\n",
        "    },\n",
        "]\n",
        "\n",
        "erc20 = w3.eth.contract(address=Web3.to_checksum_address(source_token), abi=ERC20_ABI)\n",
        "\n",
        "sell_amount   = int(quote[\"sellAmount\"])\n",
        "permit_amount = int(quote[\"permit2\"][\"eip712\"][\"message\"][\"permitted\"][\"amount\"])\n",
        "owner_balance = int(erc20.functions.balanceOf(eth_wallet.address).call())\n",
        "\n",
        "print (\"sellAmount        :\", sell_amount)\n",
        "print (\"permit.amount     :\", permit_amount)\n",
        "print (\"wallet UNI balance:\", owner_balance)\n",
        "print ()\n",
        "print (\"gas fee:\", (1.0e-18) * int(quote['transaction']['gas']) * int(quote['transaction']['gasPrice']), \"ETH\")"
      ],
      "metadata": {
        "colab": {
          "base_uri": "https://localhost:8080/",
          "height": 242
        },
        "id": "n56iixR1Imb8",
        "outputId": "2d69b422-4889-4bab-bd21-9b5dd0a5a8c3"
      },
      "id": "n56iixR1Imb8",
      "execution_count": 30,
      "outputs": [
        {
          "output_type": "error",
          "ename": "KeyError",
          "evalue": "'permit2'",
          "traceback": [
            "\u001b[0;31m---------------------------------------------------------------------------\u001b[0m",
            "\u001b[0;31mKeyError\u001b[0m                                  Traceback (most recent call last)",
            "\u001b[0;32m/tmp/ipython-input-30-816703502.py\u001b[0m in \u001b[0;36m<cell line: 0>\u001b[0;34m()\u001b[0m\n\u001b[1;32m     19\u001b[0m \u001b[0;34m\u001b[0m\u001b[0m\n\u001b[1;32m     20\u001b[0m \u001b[0msell_amount\u001b[0m   \u001b[0;34m=\u001b[0m \u001b[0mint\u001b[0m\u001b[0;34m(\u001b[0m\u001b[0mquote\u001b[0m\u001b[0;34m[\u001b[0m\u001b[0;34m\"sellAmount\"\u001b[0m\u001b[0;34m]\u001b[0m\u001b[0;34m)\u001b[0m\u001b[0;34m\u001b[0m\u001b[0;34m\u001b[0m\u001b[0m\n\u001b[0;32m---> 21\u001b[0;31m \u001b[0mpermit_amount\u001b[0m \u001b[0;34m=\u001b[0m \u001b[0mint\u001b[0m\u001b[0;34m(\u001b[0m\u001b[0mquote\u001b[0m\u001b[0;34m[\u001b[0m\u001b[0;34m\"permit2\"\u001b[0m\u001b[0;34m]\u001b[0m\u001b[0;34m[\u001b[0m\u001b[0;34m\"eip712\"\u001b[0m\u001b[0;34m]\u001b[0m\u001b[0;34m[\u001b[0m\u001b[0;34m\"message\"\u001b[0m\u001b[0;34m]\u001b[0m\u001b[0;34m[\u001b[0m\u001b[0;34m\"permitted\"\u001b[0m\u001b[0;34m]\u001b[0m\u001b[0;34m[\u001b[0m\u001b[0;34m\"amount\"\u001b[0m\u001b[0;34m]\u001b[0m\u001b[0;34m)\u001b[0m\u001b[0;34m\u001b[0m\u001b[0;34m\u001b[0m\u001b[0m\n\u001b[0m\u001b[1;32m     22\u001b[0m \u001b[0mowner_balance\u001b[0m \u001b[0;34m=\u001b[0m \u001b[0mint\u001b[0m\u001b[0;34m(\u001b[0m\u001b[0merc20\u001b[0m\u001b[0;34m.\u001b[0m\u001b[0mfunctions\u001b[0m\u001b[0;34m.\u001b[0m\u001b[0mbalanceOf\u001b[0m\u001b[0;34m(\u001b[0m\u001b[0meth_wallet\u001b[0m\u001b[0;34m.\u001b[0m\u001b[0maddress\u001b[0m\u001b[0;34m)\u001b[0m\u001b[0;34m.\u001b[0m\u001b[0mcall\u001b[0m\u001b[0;34m(\u001b[0m\u001b[0;34m)\u001b[0m\u001b[0;34m)\u001b[0m\u001b[0;34m\u001b[0m\u001b[0;34m\u001b[0m\u001b[0m\n\u001b[1;32m     23\u001b[0m \u001b[0;34m\u001b[0m\u001b[0m\n",
            "\u001b[0;31mKeyError\u001b[0m: 'permit2'"
          ]
        }
      ]
    },
    {
      "cell_type": "code",
      "source": [
        "HEAD_IDX = 9  # from your dump: head[9] -> ptr=544\n",
        "\n",
        "def build_permit2_calldata(quote, wallet_key: bytes) -> str:\n",
        "    data = bytes.fromhex(quote[\"transaction\"][\"data\"][2:])\n",
        "    head_pos = 4 + HEAD_IDX * 32\n",
        "\n",
        "    # 1) sign raw 32-byte digest\n",
        "    digest  = bytes.fromhex(quote[\"permit2\"][\"hash\"][2:])\n",
        "    sig_obj = keys.PrivateKey(wallet_key).sign_msg_hash(digest)\n",
        "    sig     = sig_obj.to_bytes()\n",
        "    if sig[-1] in (0, 1):\n",
        "        sig = sig[:-1] + bytes([sig[-1] + 27])\n",
        "    assert len(sig) == 65\n",
        "\n",
        "    # 2) find the ONLY 97-zero block we can safely overwrite\n",
        "    ZERO97 = b\"\\x00\" * 97\n",
        "    off97  = data.rfind(ZERO97)\n",
        "    if off97 == -1:\n",
        "        raise RuntimeError(\"No 97-byte zero placeholder anywhere\")\n",
        "\n",
        "    # 3) write (65 || sig) there\n",
        "    patched = data[:off97] + (65).to_bytes(32, \"big\") + sig + data[off97 + 97:]\n",
        "\n",
        "    # 4) repoint head[9] to our new block\n",
        "    new_ptr = off97 - 4  # pointer is relative to start of body\n",
        "    patched = (\n",
        "        patched[:head_pos]\n",
        "        + new_ptr.to_bytes(32, \"big\")\n",
        "        + patched[head_pos + 32:]\n",
        "    )\n",
        "\n",
        "    # 5) prove what the router will see\n",
        "    ptr     = int.from_bytes(patched[head_pos:head_pos+32], \"big\")\n",
        "    abs_off = 4 + ptr\n",
        "    L = int.from_bytes(patched[abs_off:abs_off+32], \"big\")\n",
        "    print(\"ptr:\", ptr, \"abs_off:\", abs_off, \"len_at_ptr:\", L)\n",
        "    assert L == 65, \"router will still NOT see 65\"\n",
        "\n",
        "    return \"0x\" + patched.hex()\n",
        "\n",
        "# ---- use it ----\n",
        "calldata = build_permit2_calldata(quote, eth_wallet.key)"
      ],
      "metadata": {
        "colab": {
          "base_uri": "https://localhost:8080/"
        },
        "id": "7jwL4sasSVLu",
        "outputId": "d5235f16-8ab9-4839-fbb7-37a34be0a384"
      },
      "id": "7jwL4sasSVLu",
      "execution_count": 19,
      "outputs": [
        {
          "output_type": "stream",
          "name": "stdout",
          "text": [
            "ptr: 1245 abs_off: 1249 len_at_ptr: 65\n"
          ]
        }
      ]
    },
    {
      "cell_type": "code",
      "source": [],
      "metadata": {
        "id": "VYJGClou0iKb"
      },
      "id": "VYJGClou0iKb",
      "execution_count": null,
      "outputs": []
    },
    {
      "cell_type": "code",
      "source": [],
      "metadata": {
        "id": "IK5ak90g0iNl"
      },
      "id": "IK5ak90g0iNl",
      "execution_count": null,
      "outputs": []
    },
    {
      "cell_type": "code",
      "source": [],
      "metadata": {
        "id": "eYYrGUhE0iQp"
      },
      "id": "eYYrGUhE0iQp",
      "execution_count": null,
      "outputs": []
    },
    {
      "cell_type": "code",
      "execution_count": 32,
      "id": "7d86b4cb-2be2-4eaf-a37f-a0569bc83564",
      "metadata": {
        "id": "7d86b4cb-2be2-4eaf-a37f-a0569bc83564"
      },
      "outputs": [],
      "source": [
        "# 4. Build, sign, send\n",
        "tx: dict = {\n",
        "    \"chainId\":  1,\n",
        "    \"to\":       Web3.to_checksum_address(quote[\"transaction\"][\"to\"]),\n",
        "    \"data\":     quote[\"transaction\"][\"data\"], # calldata,\n",
        "    \"value\":    int(quote[\"transaction\"][\"value\"]),\n",
        "    \"gas\":      int(quote[\"transaction\"][\"gas\"]),\n",
        "    \"nonce\":    w3.eth.get_transaction_count(eth_wallet.address, \"pending\"),\n",
        "}\n",
        "\n",
        "# Prefer EIP-1559 if present\n",
        "if (\"maxFeePerGas\" in quote[\"transaction\"]) and (\"maxPriorityFeePerGas\" in quote[\"transaction\"]):\n",
        "    tx[\"type\"] = 2\n",
        "    tx[\"maxFeePerGas\"] = int(quote[\"transaction\"][\"maxFeePerGas\"])\n",
        "    tx[\"maxPriorityFeePerGas\"] = int(quote[\"transaction\"][\"maxPriorityFeePerGas\"])\n",
        "else:\n",
        "    tx[\"gasPrice\"] = int(quote[\"transaction\"][\"gasPrice\"])\n",
        "\n",
        "# Pass through optional fields\n",
        "if \"accessList\" in quote[\"transaction\"]:\n",
        "    tx[\"accessList\"] = quote[\"transaction\"][\"accessList\"]\n",
        "\n",
        "# Only for eth_call / estimateGas preflight\n",
        "tx = dict(tx, **{\"from\": eth_wallet.address})\n",
        "\n",
        "tx_signed = eth_wallet.sign_transaction(tx)\n",
        "tx_hash = w3.eth.send_raw_transaction(tx_signed.raw_transaction)"
      ]
    },
    {
      "cell_type": "code",
      "source": [],
      "metadata": {
        "id": "ZK4In8OhvUQk"
      },
      "id": "ZK4In8OhvUQk",
      "execution_count": null,
      "outputs": []
    },
    {
      "cell_type": "code",
      "source": [],
      "metadata": {
        "id": "4d-9mNFDvUUE"
      },
      "id": "4d-9mNFDvUUE",
      "execution_count": null,
      "outputs": []
    },
    {
      "cell_type": "code",
      "source": [],
      "metadata": {
        "id": "sa_VJVeuvUba"
      },
      "id": "sa_VJVeuvUba",
      "execution_count": null,
      "outputs": []
    },
    {
      "cell_type": "code",
      "source": [],
      "metadata": {
        "id": "nZBjgmxdweNv"
      },
      "id": "nZBjgmxdweNv",
      "execution_count": null,
      "outputs": []
    },
    {
      "cell_type": "code",
      "source": [],
      "metadata": {
        "id": "kWnBnKZ6wDL3"
      },
      "id": "kWnBnKZ6wDL3",
      "execution_count": null,
      "outputs": []
    },
    {
      "cell_type": "code",
      "execution_count": 33,
      "id": "491f3e0f-72d4-4b95-bd0e-a304b3cbb433",
      "metadata": {
        "colab": {
          "base_uri": "https://localhost:8080/"
        },
        "id": "491f3e0f-72d4-4b95-bd0e-a304b3cbb433",
        "outputId": "4e509300-e7bc-4e78-c1b0-fe5b6001e135"
      },
      "outputs": [
        {
          "output_type": "stream",
          "name": "stdout",
          "text": [
            "↗ broadcast : 0x02c63211902d4c300730ec4d507319914df6ba975bf2b26986a4eeeff21099da\n",
            "⏳ waiting …\n",
            "✅ status   : 0\n"
          ]
        }
      ],
      "source": [
        "# 5. Check result\n",
        "tx_hex = w3.to_hex(tx_hash)\n",
        "\n",
        "print(\"↗ broadcast :\", tx_hex)\n",
        "print(\"⏳ waiting …\")\n",
        "print(\"✅ status   :\", w3.eth.wait_for_transaction_receipt(tx_hash).status)  # 1 = success"
      ]
    },
    {
      "cell_type": "code",
      "execution_count": 34,
      "id": "f264a394-2fa0-4304-bcab-d6917affb3fb",
      "metadata": {
        "colab": {
          "base_uri": "https://localhost:8080/"
        },
        "id": "f264a394-2fa0-4304-bcab-d6917affb3fb",
        "outputId": "e9edc3e5-7db8-483e-c538-ed4ca7b913f2"
      },
      "outputs": [
        {
          "output_type": "stream",
          "name": "stdout",
          "text": [
            "https://eth.blockscout.com/tx/0x02c63211902d4c300730ec4d507319914df6ba975bf2b26986a4eeeff21099da\n"
          ]
        }
      ],
      "source": [
        "print (\"https://eth.blockscout.com/tx/\" + tx_hex)"
      ]
    },
    {
      "cell_type": "code",
      "source": [],
      "metadata": {
        "id": "A-lG8gUB7Mme"
      },
      "id": "A-lG8gUB7Mme",
      "execution_count": null,
      "outputs": []
    },
    {
      "cell_type": "markdown",
      "source": [],
      "metadata": {
        "id": "U7vnlT027peD"
      },
      "id": "U7vnlT027peD"
    },
    {
      "cell_type": "code",
      "source": [
        "from web3 import Web3\n",
        "\n",
        "def diag_allowance(q, token, wallet, w3):\n",
        "    txo = q.get(\"transaction\", q)\n",
        "    allowance_target = q.get(\"allowanceTarget\") \\\n",
        "        or (q.get(\"issues\", {}).get(\"allowance\", {}) or {}).get(\"spender\")\n",
        "    router_to = txo[\"to\"]\n",
        "\n",
        "    allowance_target = Web3.to_checksum_address(allowance_target) if allowance_target else None\n",
        "    router_to        = Web3.to_checksum_address(router_to)\n",
        "\n",
        "    print(\"router to:        \", router_to)\n",
        "    print(\"allowanceTarget:  \", allowance_target, \"<-- MUST approve this address\")\n",
        "    assert allowance_target, \"No allowanceTarget in quote – this is required for allowance-holder flow.\"\n",
        "\n",
        "    erc20 = w3.eth.contract(address=Web3.to_checksum_address(token), abi=[\n",
        "        {\"constant\":True,\"inputs\":[{\"name\":\"owner\",\"type\":\"address\"},{\"name\":\"spender\",\"type\":\"address\"}],\n",
        "         \"name\":\"allowance\",\"outputs\":[{\"name\":\"\",\"type\":\"uint256\"}],\"type\":\"function\"},\n",
        "        {\"constant\":True,\"inputs\":[],\"name\":\"decimals\",\"outputs\":[{\"name\":\"\",\"type\":\"uint8\"}],\"type\":\"function\"},\n",
        "    ])\n",
        "    dec = erc20.functions.decimals().call()\n",
        "    cur = erc20.functions.allowance(wallet, allowance_target).call()\n",
        "\n",
        "    print(f\"decimals: {dec}\")\n",
        "    print(f\"current allowance (raw): {cur}\")\n",
        "    return allowance_target, cur\n",
        "\n",
        "# Example call (after you got `quote`):\n",
        "# spender, cur_allow = diag_allowance(quote, SELL_TOKEN, WALLET, w3)"
      ],
      "metadata": {
        "id": "4ncAWZ-E7N5Q"
      },
      "id": "4ncAWZ-E7N5Q",
      "execution_count": 35,
      "outputs": []
    },
    {
      "cell_type": "code",
      "source": [
        "diag_allowance(quote, source_token, eth_wallet.address, w3)"
      ],
      "metadata": {
        "id": "NAbZ9f8P7qCc",
        "outputId": "cde06680-16c4-4401-d5e2-d8eb2a0fb4e5",
        "colab": {
          "base_uri": "https://localhost:8080/"
        }
      },
      "id": "NAbZ9f8P7qCc",
      "execution_count": 36,
      "outputs": [
        {
          "output_type": "stream",
          "name": "stdout",
          "text": [
            "router to:         0x0000000000001fF3684f28c67538d4D072C22734\n",
            "allowanceTarget:   0x0000000000001fF3684f28c67538d4D072C22734 <-- MUST approve this address\n",
            "decimals: 18\n",
            "current allowance (raw): 0\n"
          ]
        },
        {
          "output_type": "execute_result",
          "data": {
            "text/plain": [
              "('0x0000000000001fF3684f28c67538d4D072C22734', 0)"
            ]
          },
          "metadata": {},
          "execution_count": 36
        }
      ]
    },
    {
      "cell_type": "code",
      "source": [
        "PERMIT2 = Web3.to_checksum_address(\"0x000000000022d473030f116ddee9f6b43ac78ba3\")\n",
        "AH      = Web3.to_checksum_address(\"0x0000000000001fF3684f28c67538d4D072C22734\")  # from quote\n",
        "owner   = Web3.to_checksum_address(eth_wallet.address)\n",
        "token   = Web3.to_checksum_address(source_token)\n",
        "\n",
        "erc20 = w3.eth.contract(address=token, abi=[\n",
        "  {\"constant\":True,\"inputs\":[{\"name\":\"owner\",\"type\":\"address\"},{\"name\":\"spender\",\"type\":\"address\"}],\n",
        "   \"name\":\"allowance\",\"outputs\":[{\"name\":\"\",\"type\":\"uint256\"}],\"type\":\"function\"},\n",
        "])\n",
        "\n",
        "print(\"allow(PERMIT2):\", erc20.functions.allowance(owner, PERMIT2).call())\n",
        "print(\"allow(AHolder):\", erc20.functions.allowance(owner, AH).call())"
      ],
      "metadata": {
        "id": "__HiuqkY9Nbs",
        "outputId": "c94aee1c-5700-4cf0-dbc5-f59a09ed9815",
        "colab": {
          "base_uri": "https://localhost:8080/"
        }
      },
      "id": "__HiuqkY9Nbs",
      "execution_count": 38,
      "outputs": [
        {
          "output_type": "stream",
          "name": "stdout",
          "text": [
            "allow(PERMIT2): 0\n",
            "allow(AHolder): 0\n"
          ]
        }
      ]
    },
    {
      "cell_type": "markdown",
      "source": [],
      "metadata": {
        "id": "zucifMA6Jg-p"
      },
      "id": "zucifMA6Jg-p"
    }
  ],
  "metadata": {
    "kernelspec": {
      "display_name": "Python 3 (ipykernel)",
      "language": "python",
      "name": "python3"
    },
    "language_info": {
      "codemirror_mode": {
        "name": "ipython",
        "version": 3
      },
      "file_extension": ".py",
      "mimetype": "text/x-python",
      "name": "python",
      "nbconvert_exporter": "python",
      "pygments_lexer": "ipython3",
      "version": "3.12.4"
    },
    "colab": {
      "provenance": []
    }
  },
  "nbformat": 4,
  "nbformat_minor": 5
}