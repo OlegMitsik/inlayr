{
  "cells": [
    {
      "cell_type": "code",
      "execution_count": 3,
      "id": "7c2e8cfe-f682-4637-9f73-5dce6e44815d",
      "metadata": {
        "id": "7c2e8cfe-f682-4637-9f73-5dce6e44815d"
      },
      "outputs": [],
      "source": [
        "import os, sys\n",
        "\n",
        "from datetime import datetime, timedelta\n",
        "import time\n",
        "\n",
        "import requests, json\n",
        "from web3 import Web3, HTTPProvider\n",
        "\n",
        "from eth_utils import to_bytes\n",
        "from eth_keys import keys\n",
        "from eth_account import Account\n",
        "from eth_account.messages import SignableMessage"
      ]
    },
    {
      "cell_type": "code",
      "execution_count": 61,
      "id": "76ba902b-fa11-4b50-9c1e-f27f7a67802b",
      "metadata": {
        "id": "76ba902b-fa11-4b50-9c1e-f27f7a67802b"
      },
      "outputs": [],
      "source": [
        "w3 = Web3(HTTPProvider(\"https://1rpc.io/eth\"))"
      ]
    },
    {
      "cell_type": "code",
      "execution_count": 62,
      "id": "3cce77e3-4f4e-45e0-81a5-69616ecfb63e",
      "metadata": {
        "id": "3cce77e3-4f4e-45e0-81a5-69616ecfb63e"
      },
      "outputs": [],
      "source": [
        "source_token = \"0x1f9840a85d5af5bf1d1762f925bdaddc4201f984\" # UniSwap\n",
        "destination_token = \"0xdac17f958d2ee523a2206206994597c13d831ec7\" # USDT\n",
        "\n",
        "source_amount = 10000000000000000000\n",
        "slippage = int(0.20 * 10000) # Convert to bps"
      ]
    },
    {
      "cell_type": "code",
      "execution_count": 64,
      "id": "9c0b224a-1ed8-4f4a-8798-4bf972d6a2bd",
      "metadata": {
        "id": "9c0b224a-1ed8-4f4a-8798-4bf972d6a2bd"
      },
      "outputs": [],
      "source": [
        "eth_wallet = Account.from_key(\"e5ecbcfc71ad24a2131953ef9a66e4b7ed8ca9a10ffd92104e106fab1f0af4f7\")"
      ]
    },
    {
      "cell_type": "code",
      "execution_count": 65,
      "id": "fb00328b-4411-4c41-af95-8b02367521aa",
      "metadata": {
        "id": "fb00328b-4411-4c41-af95-8b02367521aa"
      },
      "outputs": [],
      "source": [
        "# 0.  One fresh quote – DO NOT fetch another one before sending\n",
        "quote  = requests.get(\n",
        "    \"https://api.0x.org/swap/permit2/quote\",\n",
        "    params={\n",
        "        \"chainId\": 1,\n",
        "        \"sellToken\": source_token,\n",
        "        \"buyToken\":  destination_token,\n",
        "        \"sellAmount\": source_amount,\n",
        "        \"taker\": eth_wallet.address,          # wallet is your LocalAccount\n",
        "    },\n",
        "    headers={\n",
        "        \"0x-version\" : \"v2\",\n",
        "        \"0x-api-key\" : \"50cbb531-4fda-4464-acb4-5e6b5bf0e2d6\"\n",
        "    },\n",
        "    timeout=10,\n",
        ").json()"
      ]
    },
    {
      "cell_type": "code",
      "source": [
        "ERC20_ABI: list[dict] = [\n",
        "    {\n",
        "        \"constant\": True,\n",
        "        \"inputs\": [{\"name\": \"owner\", \"type\": \"address\"}],\n",
        "        \"name\": \"balanceOf\",\n",
        "        \"outputs\": [{\"name\": \"balance\", \"type\": \"uint256\"}],\n",
        "        \"type\": \"function\",\n",
        "    },\n",
        "    {\n",
        "        \"constant\": True,\n",
        "        \"inputs\": [],\n",
        "        \"name\": \"decimals\",\n",
        "        \"outputs\": [{\"name\": \"\", \"type\": \"uint8\"}],\n",
        "        \"type\": \"function\",\n",
        "    },\n",
        "]\n",
        "\n",
        "erc20 = w3.eth.contract(address=Web3.to_checksum_address(source_token), abi=ERC20_ABI)\n",
        "\n",
        "sell_amount   = int(quote[\"sellAmount\"])\n",
        "permit_amount = int(quote[\"permit2\"][\"eip712\"][\"message\"][\"permitted\"][\"amount\"])\n",
        "owner_balance = int(erc20.functions.balanceOf(eth_wallet.address).call())\n",
        "\n",
        "print (\"sellAmount        :\", sell_amount)\n",
        "print (\"permit.amount     :\", permit_amount)\n",
        "print (\"wallet UNI balance:\", owner_balance)\n",
        "print ()\n",
        "print (\"gas fee:\", (1.0e-18) * int(quote['transaction']['gas']) * int(quote['transaction']['gasPrice']), \"ETH\")"
      ],
      "metadata": {
        "colab": {
          "base_uri": "https://localhost:8080/"
        },
        "id": "n56iixR1Imb8",
        "outputId": "c7aa98f8-4dac-4be2-a5e3-a73e874fcc5f"
      },
      "id": "n56iixR1Imb8",
      "execution_count": 66,
      "outputs": [
        {
          "output_type": "stream",
          "name": "stdout",
          "text": [
            "sellAmount        : 10000000000000000000\n",
            "permit.amount     : 10000000000000000000\n",
            "wallet UNI balance: 97116026654249141437\n",
            "\n",
            "gas fee: 0.00022402019106951203 ETH\n"
          ]
        }
      ]
    },
    {
      "cell_type": "code",
      "execution_count": 67,
      "id": "e6e9601e-c36f-4816-824d-c502067b1458",
      "metadata": {
        "id": "e6e9601e-c36f-4816-824d-c502067b1458"
      },
      "outputs": [],
      "source": [
        "# 1.  Sign **exactly** the 32‑byte digest in that quote\n",
        "digest   = Web3.to_bytes(hexstr=quote[\"permit2\"][\"hash\"])      # 32 bytes\n",
        "priv     = keys.PrivateKey(eth_wallet.key)\n",
        "sig_obj  = priv.sign_msg_hash(digest)                     # v is already 27/28\n",
        "\n",
        "signature = sig_obj.to_bytes()                            # 65 bytes\n",
        "\n",
        "assert len(signature) == 65"
      ]
    },
    {
      "cell_type": "code",
      "execution_count": 68,
      "id": "18d7a3a2-8976-474d-a61c-4b6445a0f078",
      "metadata": {
        "colab": {
          "base_uri": "https://localhost:8080/"
        },
        "id": "18d7a3a2-8976-474d-a61c-4b6445a0f078",
        "outputId": "92c62be3-292e-4358-b494-644fff239d52"
      },
      "outputs": [
        {
          "output_type": "stream",
          "name": "stdout",
          "text": [
            "wallet.address : 0xa88e05Ce22569229B75b9EAE47934821Aee5C992\n",
            "recovered       : 0xa88e05Ce22569229B75b9EAE47934821Aee5C992\n"
          ]
        }
      ],
      "source": [
        "# 2.  Prove locally that the router will recover the right address\n",
        "\n",
        "rec_addr = sig_obj.recover_public_key_from_msg_hash(digest).to_checksum_address()\n",
        "\n",
        "print(\"wallet.address :\", eth_wallet.address)\n",
        "print(\"recovered       :\", rec_addr)\n",
        "\n",
        "assert rec_addr.lower() == eth_wallet.address.lower(), \"still mismatched\""
      ]
    },
    {
      "cell_type": "code",
      "execution_count": 69,
      "id": "17c51cab-27dc-40d6-91c7-b5b36c790839",
      "metadata": {
        "id": "17c51cab-27dc-40d6-91c7-b5b36c790839"
      },
      "outputs": [],
      "source": [
        "# 3.  Append length + signature to the calldata\n",
        "\n",
        "PLACEHOLDER = 32 + 65\n",
        "\n",
        "orig_data = Web3.to_bytes(hexstr=quote[\"transaction\"][\"data\"])\n",
        "\n",
        "calldata = (\n",
        "    orig_data[:-PLACEHOLDER] +\n",
        "    len(signature).to_bytes(32, \"big\") +\n",
        "    signature\n",
        ")"
      ]
    },
    {
      "cell_type": "code",
      "execution_count": 70,
      "id": "7d86b4cb-2be2-4eaf-a37f-a0569bc83564",
      "metadata": {
        "id": "7d86b4cb-2be2-4eaf-a37f-a0569bc83564"
      },
      "outputs": [],
      "source": [
        "# 4. Build, sign, send\n",
        "tx = {\n",
        "    \"to\":       Web3.to_checksum_address(quote[\"transaction\"][\"to\"]),\n",
        "    \"data\":     Web3.to_hex(calldata),\n",
        "    \"value\":    int(quote[\"transaction\"][\"value\"]),\n",
        "    \"gas\":      int(quote[\"transaction\"][\"gas\"]),\n",
        "    \"gasPrice\": int(quote[\"transaction\"][\"gasPrice\"]),\n",
        "    \"nonce\":    w3.eth.get_transaction_count(eth_wallet.address),\n",
        "    \"chainId\":  1,\n",
        "}\n",
        "\n",
        "tx_signed = eth_wallet.sign_transaction(tx)\n",
        "tx_hash = w3.eth.send_raw_transaction(tx_signed.raw_transaction)"
      ]
    },
    {
      "cell_type": "code",
      "execution_count": 71,
      "id": "491f3e0f-72d4-4b95-bd0e-a304b3cbb433",
      "metadata": {
        "colab": {
          "base_uri": "https://localhost:8080/"
        },
        "id": "491f3e0f-72d4-4b95-bd0e-a304b3cbb433",
        "outputId": "800fcef8-67fc-4ff6-e360-28bd26137644"
      },
      "outputs": [
        {
          "output_type": "stream",
          "name": "stdout",
          "text": [
            "↗ broadcast : 0x8b4b4e4d99d92b503cdaa754d6502cf82a3bae8fd37e6578c25eaa98831eb6e1\n",
            "⏳ waiting …\n",
            "✅ status   : 0\n"
          ]
        }
      ],
      "source": [
        "# 5. Check result\n",
        "tx_hex = w3.to_hex(tx_hash)\n",
        "\n",
        "print(\"↗ broadcast :\", tx_hex)\n",
        "print(\"⏳ waiting …\")\n",
        "print(\"✅ status   :\", w3.eth.wait_for_transaction_receipt(tx_hash).status)  # 1 = success"
      ]
    },
    {
      "cell_type": "code",
      "execution_count": 73,
      "id": "f264a394-2fa0-4304-bcab-d6917affb3fb",
      "metadata": {
        "colab": {
          "base_uri": "https://localhost:8080/"
        },
        "id": "f264a394-2fa0-4304-bcab-d6917affb3fb",
        "outputId": "93507b09-664e-4523-9482-e8968ed5aab9"
      },
      "outputs": [
        {
          "output_type": "stream",
          "name": "stdout",
          "text": [
            "https://eth.blockscout.com/tx/0x8b4b4e4d99d92b503cdaa754d6502cf82a3bae8fd37e6578c25eaa98831eb6e1\n"
          ]
        }
      ],
      "source": [
        "print (\"https://eth.blockscout.com/tx/\" + tx_hex)"
      ]
    }
  ],
  "metadata": {
    "kernelspec": {
      "display_name": "Python 3 (ipykernel)",
      "language": "python",
      "name": "python3"
    },
    "language_info": {
      "codemirror_mode": {
        "name": "ipython",
        "version": 3
      },
      "file_extension": ".py",
      "mimetype": "text/x-python",
      "name": "python",
      "nbconvert_exporter": "python",
      "pygments_lexer": "ipython3",
      "version": "3.12.4"
    },
    "colab": {
      "provenance": []
    }
  },
  "nbformat": 4,
  "nbformat_minor": 5
}