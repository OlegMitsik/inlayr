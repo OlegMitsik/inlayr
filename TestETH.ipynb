{
  "cells": [
    {
      "cell_type": "code",
      "source": [
        "_ = ! pip install web3"
      ],
      "metadata": {
        "id": "ubPbGDUdGX2z"
      },
      "id": "ubPbGDUdGX2z",
      "execution_count": 1,
      "outputs": []
    },
    {
      "cell_type": "code",
      "execution_count": 2,
      "id": "7c2e8cfe-f682-4637-9f73-5dce6e44815d",
      "metadata": {
        "id": "7c2e8cfe-f682-4637-9f73-5dce6e44815d"
      },
      "outputs": [],
      "source": [
        "import os, sys\n",
        "\n",
        "from datetime import datetime, timedelta\n",
        "import time\n",
        "\n",
        "import requests, json\n",
        "from web3 import Web3, HTTPProvider\n",
        "\n",
        "from eth_utils import to_bytes\n",
        "from eth_keys import keys\n",
        "from eth_account import Account\n",
        "from eth_account.messages import SignableMessage"
      ]
    },
    {
      "cell_type": "code",
      "execution_count": 3,
      "id": "76ba902b-fa11-4b50-9c1e-f27f7a67802b",
      "metadata": {
        "id": "76ba902b-fa11-4b50-9c1e-f27f7a67802b"
      },
      "outputs": [],
      "source": [
        "w3 = Web3(HTTPProvider(\"https://rpc.ankr.com/eth/1e5f9fd3e49ecec581e00815ea1eb41bc459248fd3dcf67716ff3237cc3ab68b\"))\n",
        "# https://1rpc.io/eth"
      ]
    },
    {
      "cell_type": "code",
      "execution_count": 4,
      "id": "3cce77e3-4f4e-45e0-81a5-69616ecfb63e",
      "metadata": {
        "id": "3cce77e3-4f4e-45e0-81a5-69616ecfb63e"
      },
      "outputs": [],
      "source": [
        "source_token = \"0x1f9840a85d5af5bf1d1762f925bdaddc4201f984\" # UniSwap\n",
        "destination_token = \"0xdac17f958d2ee523a2206206994597c13d831ec7\" # USDT\n",
        "\n",
        "source_amount = 1000000000000000000\n",
        "slippage = int(0.05 * 10000) # Convert to bps"
      ]
    },
    {
      "cell_type": "code",
      "execution_count": 5,
      "id": "9c0b224a-1ed8-4f4a-8798-4bf972d6a2bd",
      "metadata": {
        "id": "9c0b224a-1ed8-4f4a-8798-4bf972d6a2bd"
      },
      "outputs": [],
      "source": [
        "eth_wallet = Account.from_key(\"e5ecbcfc71ad24a2131953ef9a66e4b7ed8ca9a10ffd92104e106fab1f0af4f7\")"
      ]
    },
    {
      "cell_type": "code",
      "execution_count": 6,
      "id": "fb00328b-4411-4c41-af95-8b02367521aa",
      "metadata": {
        "id": "fb00328b-4411-4c41-af95-8b02367521aa"
      },
      "outputs": [],
      "source": [
        "# 0.  One fresh quote – DO NOT fetch another one before sending\n",
        "quote  = requests.get(\n",
        "    \"https://api.0x.org/swap/permit2/quote\",\n",
        "    params={\n",
        "        \"chainId\": 1,\n",
        "        \"sellToken\": source_token,\n",
        "        \"buyToken\":  destination_token,\n",
        "        \"sellAmount\": source_amount,\n",
        "        \"taker\": eth_wallet.address,\n",
        "        \"slippageBps\": slippage,\n",
        "    },\n",
        "    headers={\n",
        "        \"0x-version\" : \"v2\",\n",
        "        \"0x-api-key\" : \"50cbb531-4fda-4464-acb4-5e6b5bf0e2d6\"\n",
        "    },\n",
        "    timeout=10,\n",
        ").json()"
      ]
    },
    {
      "cell_type": "code",
      "source": [
        "ERC20_ABI: list[dict] = [\n",
        "    {\n",
        "        \"constant\": True,\n",
        "        \"inputs\": [{\"name\": \"owner\", \"type\": \"address\"}],\n",
        "        \"name\": \"balanceOf\",\n",
        "        \"outputs\": [{\"name\": \"balance\", \"type\": \"uint256\"}],\n",
        "        \"type\": \"function\",\n",
        "    },\n",
        "    {\n",
        "        \"constant\": True,\n",
        "        \"inputs\": [],\n",
        "        \"name\": \"decimals\",\n",
        "        \"outputs\": [{\"name\": \"\", \"type\": \"uint8\"}],\n",
        "        \"type\": \"function\",\n",
        "    },\n",
        "]\n",
        "\n",
        "erc20 = w3.eth.contract(address=Web3.to_checksum_address(source_token), abi=ERC20_ABI)\n",
        "\n",
        "sell_amount   = int(quote[\"sellAmount\"])\n",
        "permit_amount = int(quote[\"permit2\"][\"eip712\"][\"message\"][\"permitted\"][\"amount\"])\n",
        "owner_balance = int(erc20.functions.balanceOf(eth_wallet.address).call())\n",
        "\n",
        "print (\"sellAmount        :\", sell_amount)\n",
        "print (\"permit.amount     :\", permit_amount)\n",
        "print (\"wallet UNI balance:\", owner_balance)\n",
        "print ()\n",
        "print (\"gas fee:\", (1.0e-18) * int(quote['transaction']['gas']) * int(quote['transaction']['gasPrice']), \"ETH\")"
      ],
      "metadata": {
        "colab": {
          "base_uri": "https://localhost:8080/"
        },
        "id": "n56iixR1Imb8",
        "outputId": "05c342d0-0f58-402e-8154-44bac5c77fa2"
      },
      "id": "n56iixR1Imb8",
      "execution_count": 7,
      "outputs": [
        {
          "output_type": "stream",
          "name": "stdout",
          "text": [
            "sellAmount        : 1000000000000000000\n",
            "permit.amount     : 1000000000000000000\n",
            "wallet UNI balance: 57116026654249141437\n",
            "\n",
            "gas fee: 0.000248010596721084 ETH\n"
          ]
        }
      ]
    },
    {
      "cell_type": "code",
      "source": [
        "HEAD_IDX = 9  # from your dump: head[9] -> ptr=544\n",
        "\n",
        "def build_permit2_calldata(quote, wallet_key: bytes) -> str:\n",
        "    data = bytes.fromhex(quote[\"transaction\"][\"data\"][2:])\n",
        "    head_pos = 4 + HEAD_IDX * 32\n",
        "\n",
        "    # 1) sign raw 32-byte digest\n",
        "    digest  = bytes.fromhex(quote[\"permit2\"][\"hash\"][2:])\n",
        "    sig_obj = keys.PrivateKey(wallet_key).sign_msg_hash(digest)\n",
        "    sig     = sig_obj.to_bytes()\n",
        "    if sig[-1] in (0, 1):\n",
        "        sig = sig[:-1] + bytes([sig[-1] + 27])\n",
        "    assert len(sig) == 65\n",
        "\n",
        "    # 2) find the ONLY 97-zero block we can safely overwrite\n",
        "    ZERO97 = b\"\\x00\" * 97\n",
        "    off97  = data.rfind(ZERO97)\n",
        "    if off97 == -1:\n",
        "        raise RuntimeError(\"No 97-byte zero placeholder anywhere\")\n",
        "\n",
        "    # 3) write (65 || sig) there\n",
        "    patched = data[:off97] + (65).to_bytes(32, \"big\") + sig + data[off97 + 97:]\n",
        "\n",
        "    # 4) repoint head[9] to our new block\n",
        "    new_ptr = off97 - 4  # pointer is relative to start of body\n",
        "    patched = (\n",
        "        patched[:head_pos]\n",
        "        + new_ptr.to_bytes(32, \"big\")\n",
        "        + patched[head_pos + 32:]\n",
        "    )\n",
        "\n",
        "    # 5) prove what the router will see\n",
        "    ptr     = int.from_bytes(patched[head_pos:head_pos+32], \"big\")\n",
        "    abs_off = 4 + ptr\n",
        "    L = int.from_bytes(patched[abs_off:abs_off+32], \"big\")\n",
        "    print(\"ptr:\", ptr, \"abs_off:\", abs_off, \"len_at_ptr:\", L)\n",
        "    assert L == 65, \"router will still NOT see 65\"\n",
        "\n",
        "    return \"0x\" + patched.hex()\n",
        "\n",
        "# ---- use it ----\n",
        "calldata = build_permit2_calldata(quote, eth_wallet.key)"
      ],
      "metadata": {
        "colab": {
          "base_uri": "https://localhost:8080/"
        },
        "id": "7jwL4sasSVLu",
        "outputId": "d5235f16-8ab9-4839-fbb7-37a34be0a384"
      },
      "id": "7jwL4sasSVLu",
      "execution_count": 19,
      "outputs": [
        {
          "output_type": "stream",
          "name": "stdout",
          "text": [
            "ptr: 1245 abs_off: 1249 len_at_ptr: 65\n"
          ]
        }
      ]
    },
    {
      "cell_type": "code",
      "source": [
        "from eth_account.messages import encode_typed_data\n",
        "\n",
        "typed = quote[\"permit2\"][\"eip712\"]\n",
        "\n",
        "if isinstance(typed[\"domain\"].get(\"chainId\"), str):\n",
        "    typed[\"domain\"][\"chainId\"] = int(typed[\"domain\"][\"chainId\"])\n",
        "\n",
        "# (Optional) Some APIs include extra fields; remove anything unexpected\n",
        "# for k in list(typed[\"domain\"].keys()):\n",
        "#     if k not in {\"name\", \"version\", \"chainId\", \"verifyingContract\", \"salt\"}:\n",
        "#         del typed[\"domain\"][k]\n",
        "\n",
        "signature  = w3.eth.account.sign_message(\n",
        "    encode_typed_data(typed), private_key=eth_wallet.key\n",
        ").signature\n",
        "\n",
        "sig_len_hex = hex(len(signature))[2:].rjust(2, \"0\")          # 65 bytes = 0x41\n",
        "tx_data_hex = quote[\"transaction\"][\"data\"][2:] + sig_len_hex + signature.hex()\n",
        "calldata = \"0x\" + tx_data_hex"
      ],
      "metadata": {
        "id": "fL8utdYmwgA2",
        "outputId": "5238ffb5-79a0-4e78-b14f-f656d0d8b214",
        "colab": {
          "base_uri": "https://localhost:8080/",
          "height": 431
        }
      },
      "id": "fL8utdYmwgA2",
      "execution_count": 9,
      "outputs": [
        {
          "output_type": "error",
          "ename": "ValueError",
          "evalue": "Invalid domain key: `types`",
          "traceback": [
            "\u001b[0;31m---------------------------------------------------------------------------\u001b[0m",
            "\u001b[0;31mValueError\u001b[0m                                Traceback (most recent call last)",
            "\u001b[0;32m/tmp/ipython-input-9-1045104015.py\u001b[0m in \u001b[0;36m<cell line: 0>\u001b[0;34m()\u001b[0m\n\u001b[1;32m      3\u001b[0m \u001b[0meip712\u001b[0m     \u001b[0;34m=\u001b[0m \u001b[0mquote\u001b[0m\u001b[0;34m[\u001b[0m\u001b[0;34m\"permit2\"\u001b[0m\u001b[0;34m]\u001b[0m\u001b[0;34m[\u001b[0m\u001b[0;34m\"eip712\"\u001b[0m\u001b[0;34m]\u001b[0m          \u001b[0;31m# typed-data dict\u001b[0m\u001b[0;34m\u001b[0m\u001b[0;34m\u001b[0m\u001b[0m\n\u001b[1;32m      4\u001b[0m signature  = w3.eth.account.sign_message(\n\u001b[0;32m----> 5\u001b[0;31m     \u001b[0mencode_typed_data\u001b[0m\u001b[0;34m(\u001b[0m\u001b[0meip712\u001b[0m\u001b[0;34m)\u001b[0m\u001b[0;34m,\u001b[0m \u001b[0mprivate_key\u001b[0m\u001b[0;34m=\u001b[0m\u001b[0meth_wallet\u001b[0m\u001b[0;34m.\u001b[0m\u001b[0mkey\u001b[0m\u001b[0;34m\u001b[0m\u001b[0;34m\u001b[0m\u001b[0m\n\u001b[0m\u001b[1;32m      6\u001b[0m ).signature\n\u001b[1;32m      7\u001b[0m \u001b[0;34m\u001b[0m\u001b[0m\n",
            "\u001b[0;32m/usr/local/lib/python3.11/dist-packages/eth_account/messages.py\u001b[0m in \u001b[0;36mencode_typed_data\u001b[0;34m(domain_data, message_types, message_data, full_message)\u001b[0m\n\u001b[1;32m    431\u001b[0m     return SignableMessage(\n\u001b[1;32m    432\u001b[0m         \u001b[0mHexBytes\u001b[0m\u001b[0;34m(\u001b[0m\u001b[0;34mb\"\\x01\"\u001b[0m\u001b[0;34m)\u001b[0m\u001b[0;34m,\u001b[0m\u001b[0;34m\u001b[0m\u001b[0;34m\u001b[0m\u001b[0m\n\u001b[0;32m--> 433\u001b[0;31m         \u001b[0mhash_domain\u001b[0m\u001b[0;34m(\u001b[0m\u001b[0mparsed_domain_data\u001b[0m\u001b[0;34m)\u001b[0m\u001b[0;34m,\u001b[0m\u001b[0;34m\u001b[0m\u001b[0;34m\u001b[0m\u001b[0m\n\u001b[0m\u001b[1;32m    434\u001b[0m         \u001b[0mhash_eip712_message\u001b[0m\u001b[0;34m(\u001b[0m\u001b[0mparsed_message_types\u001b[0m\u001b[0;34m,\u001b[0m \u001b[0mparsed_message_data\u001b[0m\u001b[0;34m)\u001b[0m\u001b[0;34m,\u001b[0m\u001b[0;34m\u001b[0m\u001b[0;34m\u001b[0m\u001b[0m\n\u001b[1;32m    435\u001b[0m     )\n",
            "\u001b[0;32m/usr/local/lib/python3.11/dist-packages/eth_account/_utils/encode_typed_data/encoding_and_hashing.py\u001b[0m in \u001b[0;36mhash_domain\u001b[0;34m(domain_data)\u001b[0m\n\u001b[1;32m    235\u001b[0m     \u001b[0;32mfor\u001b[0m \u001b[0mk\u001b[0m \u001b[0;32min\u001b[0m \u001b[0mdomain_data\u001b[0m\u001b[0;34m.\u001b[0m\u001b[0mkeys\u001b[0m\u001b[0;34m(\u001b[0m\u001b[0;34m)\u001b[0m\u001b[0;34m:\u001b[0m\u001b[0;34m\u001b[0m\u001b[0;34m\u001b[0m\u001b[0m\n\u001b[1;32m    236\u001b[0m         \u001b[0;32mif\u001b[0m \u001b[0mk\u001b[0m \u001b[0;32mnot\u001b[0m \u001b[0;32min\u001b[0m \u001b[0meip712_domain_map\u001b[0m\u001b[0;34m.\u001b[0m\u001b[0mkeys\u001b[0m\u001b[0;34m(\u001b[0m\u001b[0;34m)\u001b[0m\u001b[0;34m:\u001b[0m\u001b[0;34m\u001b[0m\u001b[0;34m\u001b[0m\u001b[0m\n\u001b[0;32m--> 237\u001b[0;31m             \u001b[0;32mraise\u001b[0m \u001b[0mValueError\u001b[0m\u001b[0;34m(\u001b[0m\u001b[0;34mf\"Invalid domain key: `{k}`\"\u001b[0m\u001b[0;34m)\u001b[0m\u001b[0;34m\u001b[0m\u001b[0;34m\u001b[0m\u001b[0m\n\u001b[0m\u001b[1;32m    238\u001b[0m \u001b[0;34m\u001b[0m\u001b[0m\n\u001b[1;32m    239\u001b[0m     domain_types = {\n",
            "\u001b[0;31mValueError\u001b[0m: Invalid domain key: `types`"
          ]
        }
      ]
    },
    {
      "cell_type": "code",
      "execution_count": 20,
      "id": "7d86b4cb-2be2-4eaf-a37f-a0569bc83564",
      "metadata": {
        "id": "7d86b4cb-2be2-4eaf-a37f-a0569bc83564"
      },
      "outputs": [],
      "source": [
        "# 4. Build, sign, send\n",
        "tx: dict = {\n",
        "    \"chainId\":  1,\n",
        "    \"to\":       Web3.to_checksum_address(quote[\"transaction\"][\"to\"]),\n",
        "    \"data\":     quote[\"transaction\"][\"data\"], # calldata,\n",
        "    \"value\":    int(quote[\"transaction\"][\"value\"]),\n",
        "    \"gas\":      int(quote[\"transaction\"][\"gas\"]),\n",
        "    \"nonce\":    w3.eth.get_transaction_count(eth_wallet.address, \"pending\"),\n",
        "}\n",
        "\n",
        "# Prefer EIP-1559 if present\n",
        "if (\"maxFeePerGas\" in quote[\"transaction\"]) and (\"maxPriorityFeePerGas\" in quote[\"transaction\"]):\n",
        "    tx[\"type\"] = 2\n",
        "    tx[\"maxFeePerGas\"] = int(quote[\"transaction\"][\"maxFeePerGas\"])\n",
        "    tx[\"maxPriorityFeePerGas\"] = int(quote[\"transaction\"][\"maxPriorityFeePerGas\"])\n",
        "else:\n",
        "    tx[\"gasPrice\"] = int(quote[\"transaction\"][\"gasPrice\"])\n",
        "\n",
        "# Pass through optional fields\n",
        "if \"accessList\" in quote[\"transaction\"]:\n",
        "    tx[\"accessList\"] = quote[\"transaction\"][\"accessList\"]\n",
        "\n",
        "# Only for eth_call / estimateGas preflight\n",
        "tx = dict(tx, **{\"from\": eth_wallet.address})\n",
        "\n",
        "tx_signed = eth_wallet.sign_transaction(tx)\n",
        "tx_hash = w3.eth.send_raw_transaction(tx_signed.raw_transaction)"
      ]
    },
    {
      "cell_type": "code",
      "source": [],
      "metadata": {
        "id": "ZK4In8OhvUQk"
      },
      "id": "ZK4In8OhvUQk",
      "execution_count": null,
      "outputs": []
    },
    {
      "cell_type": "code",
      "source": [],
      "metadata": {
        "id": "4d-9mNFDvUUE"
      },
      "id": "4d-9mNFDvUUE",
      "execution_count": null,
      "outputs": []
    },
    {
      "cell_type": "code",
      "source": [],
      "metadata": {
        "id": "sa_VJVeuvUba"
      },
      "id": "sa_VJVeuvUba",
      "execution_count": null,
      "outputs": []
    },
    {
      "cell_type": "code",
      "source": [],
      "metadata": {
        "id": "nZBjgmxdweNv"
      },
      "id": "nZBjgmxdweNv",
      "execution_count": null,
      "outputs": []
    },
    {
      "cell_type": "code",
      "source": [],
      "metadata": {
        "id": "kWnBnKZ6wDL3"
      },
      "id": "kWnBnKZ6wDL3",
      "execution_count": null,
      "outputs": []
    },
    {
      "cell_type": "code",
      "execution_count": 21,
      "id": "491f3e0f-72d4-4b95-bd0e-a304b3cbb433",
      "metadata": {
        "colab": {
          "base_uri": "https://localhost:8080/"
        },
        "id": "491f3e0f-72d4-4b95-bd0e-a304b3cbb433",
        "outputId": "b860b117-d9b9-4386-e2cc-b477b46194cf"
      },
      "outputs": [
        {
          "output_type": "stream",
          "name": "stdout",
          "text": [
            "↗ broadcast : 0x80e86c5a63d501c4b28c3e30da91d803768f753e5ca1534d47538432a45414b7\n",
            "⏳ waiting …\n",
            "✅ status   : 0\n"
          ]
        }
      ],
      "source": [
        "# 5. Check result\n",
        "tx_hex = w3.to_hex(tx_hash)\n",
        "\n",
        "print(\"↗ broadcast :\", tx_hex)\n",
        "print(\"⏳ waiting …\")\n",
        "print(\"✅ status   :\", w3.eth.wait_for_transaction_receipt(tx_hash).status)  # 1 = success"
      ]
    },
    {
      "cell_type": "code",
      "execution_count": 22,
      "id": "f264a394-2fa0-4304-bcab-d6917affb3fb",
      "metadata": {
        "colab": {
          "base_uri": "https://localhost:8080/"
        },
        "id": "f264a394-2fa0-4304-bcab-d6917affb3fb",
        "outputId": "c2bef5ed-7d62-4269-c3cb-9faf7cea621b"
      },
      "outputs": [
        {
          "output_type": "stream",
          "name": "stdout",
          "text": [
            "https://eth.blockscout.com/tx/0x80e86c5a63d501c4b28c3e30da91d803768f753e5ca1534d47538432a45414b7\n"
          ]
        }
      ],
      "source": [
        "print (\"https://eth.blockscout.com/tx/\" + tx_hex)"
      ]
    },
    {
      "cell_type": "markdown",
      "source": [],
      "metadata": {
        "id": "zucifMA6Jg-p"
      },
      "id": "zucifMA6Jg-p"
    }
  ],
  "metadata": {
    "kernelspec": {
      "display_name": "Python 3 (ipykernel)",
      "language": "python",
      "name": "python3"
    },
    "language_info": {
      "codemirror_mode": {
        "name": "ipython",
        "version": 3
      },
      "file_extension": ".py",
      "mimetype": "text/x-python",
      "name": "python",
      "nbconvert_exporter": "python",
      "pygments_lexer": "ipython3",
      "version": "3.12.4"
    },
    "colab": {
      "provenance": []
    }
  },
  "nbformat": 4,
  "nbformat_minor": 5
}