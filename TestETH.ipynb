{
  "cells": [
    {
      "cell_type": "code",
      "source": [
        "_ = ! pip install web3"
      ],
      "metadata": {
        "id": "ubPbGDUdGX2z"
      },
      "id": "ubPbGDUdGX2z",
      "execution_count": 33,
      "outputs": []
    },
    {
      "cell_type": "code",
      "execution_count": 81,
      "id": "7c2e8cfe-f682-4637-9f73-5dce6e44815d",
      "metadata": {
        "id": "7c2e8cfe-f682-4637-9f73-5dce6e44815d"
      },
      "outputs": [],
      "source": [
        "import os, sys\n",
        "\n",
        "from datetime import datetime, timedelta\n",
        "import time\n",
        "\n",
        "import requests, json\n",
        "from web3 import Web3, HTTPProvider\n",
        "\n",
        "from eth_utils import to_bytes\n",
        "from eth_keys import keys\n",
        "from eth_account import Account\n",
        "from eth_account.messages import SignableMessage"
      ]
    },
    {
      "cell_type": "code",
      "execution_count": 97,
      "id": "76ba902b-fa11-4b50-9c1e-f27f7a67802b",
      "metadata": {
        "id": "76ba902b-fa11-4b50-9c1e-f27f7a67802b"
      },
      "outputs": [],
      "source": [
        "w3 = Web3(HTTPProvider(\"https://rpc.ankr.com/eth/1e5f9fd3e49ecec581e00815ea1eb41bc459248fd3dcf67716ff3237cc3ab68b\"))\n",
        "# https://1rpc.io/eth"
      ]
    },
    {
      "cell_type": "code",
      "execution_count": 98,
      "id": "3cce77e3-4f4e-45e0-81a5-69616ecfb63e",
      "metadata": {
        "id": "3cce77e3-4f4e-45e0-81a5-69616ecfb63e"
      },
      "outputs": [],
      "source": [
        "source_token = \"0x1f9840a85d5af5bf1d1762f925bdaddc4201f984\" # UniSwap\n",
        "destination_token = \"0xdac17f958d2ee523a2206206994597c13d831ec7\" # USDT\n",
        "\n",
        "source_amount = 1000000000000000000\n",
        "slippage = int(0.05 * 10000) # Convert to bps"
      ]
    },
    {
      "cell_type": "code",
      "execution_count": 99,
      "id": "9c0b224a-1ed8-4f4a-8798-4bf972d6a2bd",
      "metadata": {
        "id": "9c0b224a-1ed8-4f4a-8798-4bf972d6a2bd"
      },
      "outputs": [],
      "source": [
        "eth_wallet = Account.from_key(\"e5ecbcfc71ad24a2131953ef9a66e4b7ed8ca9a10ffd92104e106fab1f0af4f7\")"
      ]
    },
    {
      "cell_type": "code",
      "execution_count": 100,
      "id": "fb00328b-4411-4c41-af95-8b02367521aa",
      "metadata": {
        "id": "fb00328b-4411-4c41-af95-8b02367521aa"
      },
      "outputs": [],
      "source": [
        "# 0.  One fresh quote – DO NOT fetch another one before sending\n",
        "quote  = requests.get(\n",
        "    \"https://api.0x.org/swap/permit2/quote\",\n",
        "    params={\n",
        "        \"chainId\": 1,\n",
        "        \"sellToken\": source_token,\n",
        "        \"buyToken\":  destination_token,\n",
        "        \"sellAmount\": source_amount,\n",
        "        \"taker\": eth_wallet.address,\n",
        "        \"slippageBps\": slippage,\n",
        "    },\n",
        "    headers={\n",
        "        \"0x-version\" : \"v2\",\n",
        "        \"0x-api-key\" : \"50cbb531-4fda-4464-acb4-5e6b5bf0e2d6\"\n",
        "    },\n",
        "    timeout=10,\n",
        ").json()"
      ]
    },
    {
      "cell_type": "code",
      "source": [
        "ERC20_ABI: list[dict] = [\n",
        "    {\n",
        "        \"constant\": True,\n",
        "        \"inputs\": [{\"name\": \"owner\", \"type\": \"address\"}],\n",
        "        \"name\": \"balanceOf\",\n",
        "        \"outputs\": [{\"name\": \"balance\", \"type\": \"uint256\"}],\n",
        "        \"type\": \"function\",\n",
        "    },\n",
        "    {\n",
        "        \"constant\": True,\n",
        "        \"inputs\": [],\n",
        "        \"name\": \"decimals\",\n",
        "        \"outputs\": [{\"name\": \"\", \"type\": \"uint8\"}],\n",
        "        \"type\": \"function\",\n",
        "    },\n",
        "]\n",
        "\n",
        "erc20 = w3.eth.contract(address=Web3.to_checksum_address(source_token), abi=ERC20_ABI)\n",
        "\n",
        "sell_amount   = int(quote[\"sellAmount\"])\n",
        "permit_amount = int(quote[\"permit2\"][\"eip712\"][\"message\"][\"permitted\"][\"amount\"])\n",
        "owner_balance = int(erc20.functions.balanceOf(eth_wallet.address).call())\n",
        "\n",
        "print (\"sellAmount        :\", sell_amount)\n",
        "print (\"permit.amount     :\", permit_amount)\n",
        "print (\"wallet UNI balance:\", owner_balance)\n",
        "print ()\n",
        "print (\"gas fee:\", (1.0e-18) * int(quote['transaction']['gas']) * int(quote['transaction']['gasPrice']), \"ETH\")"
      ],
      "metadata": {
        "colab": {
          "base_uri": "https://localhost:8080/"
        },
        "id": "n56iixR1Imb8",
        "outputId": "9ac8f490-f8b2-4a1a-ceea-87d1eb1c615c"
      },
      "id": "n56iixR1Imb8",
      "execution_count": 101,
      "outputs": [
        {
          "output_type": "stream",
          "name": "stdout",
          "text": [
            "sellAmount        : 1000000000000000000\n",
            "permit.amount     : 1000000000000000000\n",
            "wallet UNI balance: 57116026654249141437\n",
            "\n",
            "gas fee: 0.000184910974384928 ETH\n"
          ]
        }
      ]
    },
    {
      "cell_type": "code",
      "source": [
        "digest = bytes.fromhex(quote[\"permit2\"][\"hash\"][2:])\n",
        "priv   = keys.PrivateKey(eth_wallet.key)\n",
        "sig    = priv.sign_msg_hash(digest)\n",
        "\n",
        "sig_bytes = sig.to_bytes()\n",
        "if sig_bytes[-1] in (0, 1):  # old eth-keys\n",
        "    sig_bytes = sig_bytes[:-1] + bytes([sig_bytes[-1] + 27])\n",
        "\n",
        "data_hex = quote[\"transaction\"][\"data\"]\n",
        "data     = bytes.fromhex(data_hex[2:])\n",
        "\n",
        "zero97 = b\"\\x00\" * (32 + 65)\n",
        "i = data.rfind(zero97)\n",
        "if i == -1:\n",
        "    raise ValueError(\"Permit2 placeholder not found – API layout changed?\")\n",
        "\n",
        "patched = (\n",
        "    data[:i]\n",
        "    + len(sig_bytes).to_bytes(32, \"big\")  # 65\n",
        "    + sig_bytes\n",
        "    + data[i + len(zero97):]\n",
        ")\n",
        "\n",
        "calldata = \"0x\" + patched.hex()\n",
        "\n",
        "# Sanity checks\n",
        "assert len(sig_bytes) == 65\n",
        "assert int.from_bytes(patched[i:i+32], \"big\") == 65, \"length word != 65\"\n",
        "assert patched.rfind(zero97) < i, \"another zero placeholder remains after injected signature\""
      ],
      "metadata": {
        "id": "7jwL4sasSVLu"
      },
      "id": "7jwL4sasSVLu",
      "execution_count": 102,
      "outputs": []
    },
    {
      "cell_type": "code",
      "source": [],
      "metadata": {
        "id": "apg6JUbsIFc1"
      },
      "id": "apg6JUbsIFc1",
      "execution_count": null,
      "outputs": []
    },
    {
      "cell_type": "code",
      "execution_count": 104,
      "id": "7d86b4cb-2be2-4eaf-a37f-a0569bc83564",
      "metadata": {
        "id": "7d86b4cb-2be2-4eaf-a37f-a0569bc83564"
      },
      "outputs": [],
      "source": [
        "# 4. Build, sign, send\n",
        "tx: dict = {\n",
        "    \"chainId\":  1,\n",
        "    \"to\":       Web3.to_checksum_address(quote[\"transaction\"][\"to\"]),\n",
        "    \"data\":     calldata,\n",
        "    \"value\":    int(quote[\"transaction\"][\"value\"]),\n",
        "    \"gas\":      int(quote[\"transaction\"][\"gas\"]),\n",
        "    \"nonce\":    w3.eth.get_transaction_count(eth_wallet.address),\n",
        "}\n",
        "\n",
        "# Prefer EIP-1559 if present\n",
        "if (\"maxFeePerGas\" in quote[\"transaction\"]) and (\"maxPriorityFeePerGas\" in quote[\"transaction\"]):\n",
        "    tx[\"type\"] = 2\n",
        "    tx[\"maxFeePerGas\"] = int(quote[\"transaction\"][\"maxFeePerGas\"])\n",
        "    tx[\"maxPriorityFeePerGas\"] = int(quote[\"transaction\"][\"maxPriorityFeePerGas\"])\n",
        "else:\n",
        "    tx[\"gasPrice\"] = int(quote[\"transaction\"][\"gasPrice\"])\n",
        "\n",
        "# Pass through optional fields\n",
        "if \"accessList\" in quote[\"transaction\"]:\n",
        "    tx[\"accessList\"] = quote[\"transaction\"][\"accessList\"]\n",
        "\n",
        "# Only for eth_call / estimateGas preflight\n",
        "tx = dict(tx, **{\"from\": eth_wallet.address})\n",
        "\n",
        "tx_signed = eth_wallet.sign_transaction(tx)\n",
        "tx_hash = w3.eth.send_raw_transaction(tx_signed.raw_transaction)"
      ]
    },
    {
      "cell_type": "code",
      "execution_count": 105,
      "id": "491f3e0f-72d4-4b95-bd0e-a304b3cbb433",
      "metadata": {
        "colab": {
          "base_uri": "https://localhost:8080/"
        },
        "id": "491f3e0f-72d4-4b95-bd0e-a304b3cbb433",
        "outputId": "87db5f4c-b996-4867-d3f8-a83723a7534a"
      },
      "outputs": [
        {
          "output_type": "stream",
          "name": "stdout",
          "text": [
            "↗ broadcast : 0x3efb3a1d6d3e76358b6241f2ce6b18e07ec7da9958b5bedca89b99e13eb1870f\n",
            "⏳ waiting …\n",
            "✅ status   : 0\n"
          ]
        }
      ],
      "source": [
        "# 5. Check result\n",
        "tx_hex = w3.to_hex(tx_hash)\n",
        "\n",
        "print(\"↗ broadcast :\", tx_hex)\n",
        "print(\"⏳ waiting …\")\n",
        "print(\"✅ status   :\", w3.eth.wait_for_transaction_receipt(tx_hash).status)  # 1 = success"
      ]
    },
    {
      "cell_type": "code",
      "execution_count": 106,
      "id": "f264a394-2fa0-4304-bcab-d6917affb3fb",
      "metadata": {
        "colab": {
          "base_uri": "https://localhost:8080/"
        },
        "id": "f264a394-2fa0-4304-bcab-d6917affb3fb",
        "outputId": "6366f04c-ab12-4c1f-fe7c-0bd3d2f46657"
      },
      "outputs": [
        {
          "output_type": "stream",
          "name": "stdout",
          "text": [
            "https://eth.blockscout.com/tx/0x3efb3a1d6d3e76358b6241f2ce6b18e07ec7da9958b5bedca89b99e13eb1870f\n"
          ]
        }
      ],
      "source": [
        "print (\"https://eth.blockscout.com/tx/\" + tx_hex)"
      ]
    },
    {
      "cell_type": "markdown",
      "source": [],
      "metadata": {
        "id": "zucifMA6Jg-p"
      },
      "id": "zucifMA6Jg-p"
    }
  ],
  "metadata": {
    "kernelspec": {
      "display_name": "Python 3 (ipykernel)",
      "language": "python",
      "name": "python3"
    },
    "language_info": {
      "codemirror_mode": {
        "name": "ipython",
        "version": 3
      },
      "file_extension": ".py",
      "mimetype": "text/x-python",
      "name": "python",
      "nbconvert_exporter": "python",
      "pygments_lexer": "ipython3",
      "version": "3.12.4"
    },
    "colab": {
      "provenance": []
    }
  },
  "nbformat": 4,
  "nbformat_minor": 5
}