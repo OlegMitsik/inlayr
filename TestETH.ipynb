{
 "cells": [
  {
   "cell_type": "code",
   "execution_count": 12,
   "id": "7c2e8cfe-f682-4637-9f73-5dce6e44815d",
   "metadata": {},
   "outputs": [],
   "source": [
    "import os, sys\n",
    "\n",
    "from datetime import datetime, timedelta\n",
    "import time\n",
    "\n",
    "import requests, json\n",
    "from web3 import Web3, HTTPProvider\n",
    "\n",
    "from eth_utils import to_bytes\n",
    "from eth_keys import keys\n",
    "from eth_account import Account\n",
    "from eth_account.messages import SignableMessage"
   ]
  },
  {
   "cell_type": "code",
   "execution_count": 21,
   "id": "76ba902b-fa11-4b50-9c1e-f27f7a67802b",
   "metadata": {},
   "outputs": [],
   "source": [
    "w3 = Web3(HTTPProvider(\"https://1rpc.io/eth\"))"
   ]
  },
  {
   "cell_type": "code",
   "execution_count": 22,
   "id": "3cce77e3-4f4e-45e0-81a5-69616ecfb63e",
   "metadata": {},
   "outputs": [],
   "source": [
    "source_token = \"0x1f9840a85d5af5bf1d1762f925bdaddc4201f984\", # UniSwap\n",
    "destination_token = \"0xdac17f958d2ee523a2206206994597c13d831ec7\" # USDT\n",
    "\n",
    "source_amount = 10000000000000000000\n",
    "slippage = int(0.20 * 10000) # Convert to bps"
   ]
  },
  {
   "cell_type": "code",
   "execution_count": 23,
   "id": "9c0b224a-1ed8-4f4a-8798-4bf972d6a2bd",
   "metadata": {},
   "outputs": [],
   "source": [
    "with open(\"ethereum_wallet.json\", \"r\") as f:\n",
    "    keypair_json = json.load(f)\n",
    "\n",
    "private_key = Account.decrypt(keypair_json, \"\")\n",
    "eth_wallet = Account.from_key(private_key)"
   ]
  },
  {
   "cell_type": "code",
   "execution_count": 36,
   "id": "fb00328b-4411-4c41-af95-8b02367521aa",
   "metadata": {},
   "outputs": [],
   "source": [
    "# 0.  One fresh quote – DO NOT fetch another one before sending\n",
    "quote  = requests.get(\n",
    "    \"https://api.0x.org/swap/permit2/quote\",\n",
    "    params={\n",
    "        \"chainId\": 1,\n",
    "        \"sellToken\": source_token,\n",
    "        \"buyToken\":  destination_token,\n",
    "        \"sellAmount\": source_amount,\n",
    "        \"taker\": eth_wallet.address,          # wallet is your LocalAccount\n",
    "    },\n",
    "    headers={\n",
    "        \"0x-version\" : \"v2\",\n",
    "        \"0x-api-key\" : \"50cbb531-4fda-4464-acb4-5e6b5bf0e2d6\"\n",
    "    },\n",
    "    timeout=10,\n",
    ").json()"
   ]
  },
  {
   "cell_type": "code",
   "execution_count": 37,
   "id": "71e2cb96-24a6-4ecb-91e6-113ccb227988",
   "metadata": {},
   "outputs": [
    {
     "name": "stdout",
     "output_type": "stream",
     "text": [
      "Gas fee: 0.000507313970804443 ETH\n"
     ]
    }
   ],
   "source": [
    "print (\"Gas fee:\", (1.0e-18) * int(quote['transaction']['gas']) * int(quote['transaction']['gasPrice']), \"ETH\")"
   ]
  },
  {
   "cell_type": "code",
   "execution_count": 38,
   "id": "e6e9601e-c36f-4816-824d-c502067b1458",
   "metadata": {},
   "outputs": [],
   "source": [
    "# 1.  Sign **exactly** the 32‑byte digest in that quote\n",
    "digest   = to_bytes(hexstr=quote[\"permit2\"][\"hash\"])         # 32 bytes\n",
    "\n",
    "key_obj  = keys.PrivateKey(eth_wallet.key)                       # raw priv‑key\n",
    "raw_sig  = key_obj.sign_msg_hash(digest)                     # r,s,v   (v = 0/1)\n",
    "signature = raw_sig.to_bytes() \n",
    "\n",
    "assert len(signature) == 65"
   ]
  },
  {
   "cell_type": "code",
   "execution_count": 39,
   "id": "18d7a3a2-8976-474d-a61c-4b6445a0f078",
   "metadata": {},
   "outputs": [
    {
     "data": {
      "text/plain": [
       "'❌ signer mismatch!'"
      ]
     },
     "metadata": {},
     "output_type": "display_data"
    }
   ],
   "source": [
    "# 2.  Prove locally that the router will recover the right address\n",
    "\n",
    "msg       = SignableMessage(b\"\\x00\", b\"\", digest)            # raw‑hash envelope\n",
    "recovered = Account.recover_message(msg, signature=signature)\n",
    "\n",
    "if recovered.lower() != eth_wallet.address.lower():\n",
    "    display (\"❌ signer mismatch!\")"
   ]
  },
  {
   "cell_type": "code",
   "execution_count": 40,
   "id": "17c51cab-27dc-40d6-91c7-b5b36c790839",
   "metadata": {},
   "outputs": [],
   "source": [
    "# 3.  Append length + signature to the calldata\n",
    "calldata = (\n",
    "    bytes.fromhex(quote[\"transaction\"][\"data\"][2:]) +        # original data\n",
    "    len(signature).to_bytes(32, \"big\") +                     # 0x…41\n",
    "    signature\n",
    ")"
   ]
  },
  {
   "cell_type": "code",
   "execution_count": 41,
   "id": "7d86b4cb-2be2-4eaf-a37f-a0569bc83564",
   "metadata": {},
   "outputs": [],
   "source": [
    "# 4. Build, sign, send\n",
    "tx = {\n",
    "    \"to\":       Web3.to_checksum_address(quote[\"transaction\"][\"to\"]),\n",
    "    \"data\":     \"0x\" + calldata.hex(),\n",
    "    \"value\":    int(quote[\"transaction\"][\"value\"]),\n",
    "    \"gas\":      int(quote[\"transaction\"][\"gas\"]),\n",
    "    \"gasPrice\": int(quote[\"transaction\"][\"gasPrice\"]),\n",
    "    \"nonce\":    w3.eth.get_transaction_count(eth_wallet.address),\n",
    "    \"chainId\":  1,\n",
    "}\n",
    "\n",
    "tx_signed = eth_wallet.sign_transaction(tx)\n",
    "tx_hash = w3.eth.send_raw_transaction(tx_signed.raw_transaction)"
   ]
  },
  {
   "cell_type": "code",
   "execution_count": 42,
   "id": "491f3e0f-72d4-4b95-bd0e-a304b3cbb433",
   "metadata": {},
   "outputs": [
    {
     "name": "stdout",
     "output_type": "stream",
     "text": [
      "↗ broadcast : 0xb7a4f0f77defb05f6458b8e3194a1f064ba5ccef808ef467403fc4716d5078a0\n",
      "⏳ waiting …\n",
      "✅ status   : 0\n"
     ]
    }
   ],
   "source": [
    "# 5. Check result\n",
    "tx_hex = w3.to_hex(tx_hash)\n",
    "\n",
    "print(\"↗ broadcast :\", tx_hex) \n",
    "print(\"⏳ waiting …\")\n",
    "print(\"✅ status   :\", w3.eth.wait_for_transaction_receipt(tx_hash).status)  # 1 = success"
   ]
  },
  {
   "cell_type": "code",
   "execution_count": 45,
   "id": "f264a394-2fa0-4304-bcab-d6917affb3fb",
   "metadata": {},
   "outputs": [
    {
     "name": "stdout",
     "output_type": "stream",
     "text": [
      "https://eth.blockscout.com/tx/0xb7a4f0f77defb05f6458b8e3194a1f064ba5ccef808ef467403fc4716d5078a0\n"
     ]
    }
   ],
   "source": [
    "print (\"https://eth.blockscout.com/tx/\" + tx_hex)"
   ]
  },
  {
   "cell_type": "code",
   "execution_count": null,
   "id": "dc4ad7a3-ba44-4f68-889e-8278271a625a",
   "metadata": {},
   "outputs": [],
   "source": []
  }
 ],
 "metadata": {
  "kernelspec": {
   "display_name": "Python 3 (ipykernel)",
   "language": "python",
   "name": "python3"
  },
  "language_info": {
   "codemirror_mode": {
    "name": "ipython",
    "version": 3
   },
   "file_extension": ".py",
   "mimetype": "text/x-python",
   "name": "python",
   "nbconvert_exporter": "python",
   "pygments_lexer": "ipython3",
   "version": "3.12.4"
  }
 },
 "nbformat": 4,
 "nbformat_minor": 5
}
