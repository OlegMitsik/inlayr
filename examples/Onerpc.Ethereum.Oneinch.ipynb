{
 "cells": [
  {
   "cell_type": "code",
   "execution_count": 1,
   "id": "7c2e8cfe-f682-4637-9f73-5dce6e44815d",
   "metadata": {},
   "outputs": [],
   "source": [
    "import os, sys\n",
    "\n",
    "from datetime import datetime, timedelta\n",
    "import time\n",
    "\n",
    "from inlayr.provider import get_provider"
   ]
  },
  {
   "cell_type": "markdown",
   "id": "f2a99a3c-acb2-4cdc-801d-43645e1d5d2a",
   "metadata": {},
   "source": [
    "### Init"
   ]
  },
  {
   "cell_type": "code",
   "execution_count": 2,
   "id": "b514aaff-8fa2-4bcc-8b2c-8f23a153a679",
   "metadata": {},
   "outputs": [],
   "source": [
    "provider = get_provider(\n",
    "    chain = \"evm\",\n",
    "    chain_params = {\n",
    "        \"wallet_pk\": open(os.path.join(os.environ.get(\"inlayr_root\"), r\"keys\\ethereum_wallet\")).read(),\n",
    "    },\n",
    "    \n",
    "    rpc = \"onerpc\", \n",
    "    rpc_params = {\n",
    "        \"chain_id\": 1,\n",
    "    }, \n",
    "    \n",
    "    aggregator = \"oneinch\",\n",
    "    aggregator_params = {\n",
    "        \"headers\": {\n",
    "            \"Authorization\": \"Bearer \" + open(os.path.join(os.environ.get(\"inlayr_root\"), r\"keys\\oneinch-api-key\")).read(),\n",
    "            \"accept\": \"application/json\",\n",
    "        }\n",
    "    }\n",
    ")"
   ]
  },
  {
   "cell_type": "markdown",
   "id": "945c4452-f195-43b4-82de-f12261e4cecb",
   "metadata": {},
   "source": [
    "### Inputs"
   ]
  },
  {
   "cell_type": "code",
   "execution_count": 3,
   "id": "481918c8-3296-41e6-84ed-d40bbf27a130",
   "metadata": {},
   "outputs": [],
   "source": [
    "source_token = \"0xdac17f958d2ee523a2206206994597c13d831ec7\" # USDT mint address\n",
    "destination_token = \"0xec53bf9167f50cdeb3ae105f56099aaab9061f83\" \n",
    "\n",
    "source_amount = int(129 * 1e6)\n",
    "slippage = int(0.05 * 10000) # Convert to bps"
   ]
  },
  {
   "cell_type": "markdown",
   "id": "2427f031-2c14-4a90-92a6-53e3970e5640",
   "metadata": {},
   "source": [
    "### Set allowance"
   ]
  },
  {
   "cell_type": "code",
   "execution_count": 237,
   "id": "05ae5c03-7f10-4792-b10f-297c7e3473ed",
   "metadata": {},
   "outputs": [
    {
     "name": "stdout",
     "output_type": "stream",
     "text": [
      "Allowance is sufficient, no approval needed.\n"
     ]
    }
   ],
   "source": [
    "approval_transaction = provider.get_approval(\n",
    "    source_token = source_token,\n",
    "    source_amount = source_amount\n",
    ")"
   ]
  },
  {
   "cell_type": "code",
   "execution_count": 238,
   "id": "abdf83b0-67ff-43fd-aa5b-9976b33836d2",
   "metadata": {},
   "outputs": [],
   "source": [
    "if approval_transaction.transaction is not None:\n",
    "    approval_executed = provider.execute_trx(\n",
    "        transaction = approval_transaction\n",
    "    )"
   ]
  },
  {
   "cell_type": "code",
   "execution_count": 239,
   "id": "99420ddb-28e0-4c72-b9b3-821906b41f70",
   "metadata": {},
   "outputs": [],
   "source": [
    "if approval_transaction.transaction is not None:\n",
    "    display(\n",
    "        provider.trx_status(\n",
    "            signature = approval_executed\n",
    "        )\n",
    "    )"
   ]
  },
  {
   "cell_type": "markdown",
   "id": "d22f16c4-7aa1-4645-a544-3fac9a4aa69a",
   "metadata": {},
   "source": [
    "### Execute swap"
   ]
  },
  {
   "cell_type": "code",
   "execution_count": 240,
   "id": "db23cce8-1e8d-47e3-95cc-20931248ed13",
   "metadata": {},
   "outputs": [
    {
     "name": "stdout",
     "output_type": "stream",
     "text": [
      "max gas fee: 9.172536292781999e-05 ETH\n"
     ]
    }
   ],
   "source": [
    "quote = provider.get_quote(\n",
    "    source_token = source_token, \n",
    "    source_amount = source_amount, \n",
    "    destination_token = destination_token, \n",
    "    slippage = slippage\n",
    ")\n",
    "\n",
    "print (\"max gas fee:\", (1.0e-18) * int(quote.quote['tx']['gas']) * int(quote.quote['tx']['gasPrice']), \"ETH\")"
   ]
  },
  {
   "cell_type": "code",
   "execution_count": 241,
   "id": "b989d2d8-12c0-4631-8d9c-6f8296234fdc",
   "metadata": {},
   "outputs": [],
   "source": [
    "swap_transaction = provider.get_swap(\n",
    "    quote = quote\n",
    ")"
   ]
  },
  {
   "cell_type": "code",
   "execution_count": 242,
   "id": "84135f0f-ba5a-4561-8c5b-47b58f1fb700",
   "metadata": {},
   "outputs": [],
   "source": [
    "swap_executed = provider.execute_trx(\n",
    "    transaction = swap_transaction\n",
    ")"
   ]
  },
  {
   "cell_type": "code",
   "execution_count": null,
   "id": "9e3dcb50-0e1d-4cd4-ac32-0b57d1b45430",
   "metadata": {},
   "outputs": [],
   "source": [
    "provider.trx_status(\n",
    "    signature = swap_executed\n",
    ")"
   ]
  },
  {
   "cell_type": "markdown",
   "id": "6a144350-4a8e-4253-84d4-e480af40107d",
   "metadata": {},
   "source": [
    "### Check balance"
   ]
  },
  {
   "cell_type": "code",
   "execution_count": 4,
   "id": "05d6f782-59ea-42c7-b901-9fe32b3e00a5",
   "metadata": {},
   "outputs": [
    {
     "data": {
      "text/plain": [
       "Balance(source='EVM', amount=281837695505214370218)"
      ]
     },
     "execution_count": 4,
     "metadata": {},
     "output_type": "execute_result"
    }
   ],
   "source": [
    "token_position = provider.get_balance(\n",
    "    source_token = destination_token\n",
    ")\n",
    "\n",
    "token_position"
   ]
  },
  {
   "cell_type": "code",
   "execution_count": null,
   "id": "ac6579aa-c487-4bca-a849-e778af5d149f",
   "metadata": {},
   "outputs": [],
   "source": []
  }
 ],
 "metadata": {
  "kernelspec": {
   "display_name": "Python 3 (ipykernel)",
   "language": "python",
   "name": "python3"
  },
  "language_info": {
   "codemirror_mode": {
    "name": "ipython",
    "version": 3
   },
   "file_extension": ".py",
   "mimetype": "text/x-python",
   "name": "python",
   "nbconvert_exporter": "python",
   "pygments_lexer": "ipython3",
   "version": "3.12.4"
  }
 },
 "nbformat": 4,
 "nbformat_minor": 5
}
