{
 "cells": [
  {
   "cell_type": "code",
   "execution_count": 1,
   "id": "7c2e8cfe-f682-4637-9f73-5dce6e44815d",
   "metadata": {},
   "outputs": [],
   "source": [
    "import os, sys\n",
    "\n",
    "from datetime import datetime, timedelta\n",
    "import time\n",
    "\n",
    "from inlayr.provider import get_provider"
   ]
  },
  {
   "cell_type": "markdown",
   "id": "f2a99a3c-acb2-4cdc-801d-43645e1d5d2a",
   "metadata": {},
   "source": [
    "### Init"
   ]
  },
  {
   "cell_type": "code",
   "execution_count": 2,
   "id": "80b4675f-caf6-4f83-9395-7bec5a3b4c5e",
   "metadata": {},
   "outputs": [],
   "source": [
    "provider = get_provider(\n",
    "    chain = \"solana\",\n",
    "    chain_params = {\n",
    "        \"wallet_pk\": open(os.path.join(os.environ.get(\"inlayr_root\"), r\"keys\\solana_wallet\")).read(),\n",
    "    },\n",
    "    \n",
    "    rpc = \"solana\", \n",
    "    rpc_params = {\n",
    "        \"chain_id\": None\n",
    "    },\n",
    "    \n",
    "    aggregator = \"jupiter\",\n",
    ")"
   ]
  },
  {
   "cell_type": "markdown",
   "id": "945c4452-f195-43b4-82de-f12261e4cecb",
   "metadata": {},
   "source": [
    "### Inputs"
   ]
  },
  {
   "cell_type": "code",
   "execution_count": 3,
   "id": "481918c8-3296-41e6-84ed-d40bbf27a130",
   "metadata": {},
   "outputs": [],
   "source": [
    "source_token = \"4eDf52YYzL6i6gbZ6FXqrLUPXbtP61f1gPSFM66M4XHe\"\n",
    "destination_token = \"So11111111111111111111111111111111111111112\" # SOL mint address\n",
    "\n",
    "source_amount = int(1 * 1e9)\n",
    "slippage = int(0.1 * 10000) # Convert to bps"
   ]
  },
  {
   "cell_type": "markdown",
   "id": "d22f16c4-7aa1-4645-a544-3fac9a4aa69a",
   "metadata": {},
   "source": [
    "### Execute swap"
   ]
  },
  {
   "cell_type": "code",
   "execution_count": 4,
   "id": "17f6a36e-e382-4d03-96ef-d8a4a66e37a8",
   "metadata": {},
   "outputs": [],
   "source": [
    "quote = provider.get_quote(\n",
    "    source_token = source_token, \n",
    "    source_amount = source_amount, \n",
    "    destination_token = destination_token, \n",
    "    slippage = slippage\n",
    ")"
   ]
  },
  {
   "cell_type": "code",
   "execution_count": 5,
   "id": "b989d2d8-12c0-4631-8d9c-6f8296234fdc",
   "metadata": {},
   "outputs": [],
   "source": [
    "swap_transaction = provider.get_swap(\n",
    "    quote = quote\n",
    ")"
   ]
  },
  {
   "cell_type": "code",
   "execution_count": 6,
   "id": "84135f0f-ba5a-4561-8c5b-47b58f1fb700",
   "metadata": {},
   "outputs": [],
   "source": [
    "swap_executed = provider.execute_trx(\n",
    "    transaction = swap_transaction\n",
    ")"
   ]
  },
  {
   "cell_type": "code",
   "execution_count": null,
   "id": "deef6350-b803-49c0-9d9a-c0b4e6a3a45b",
   "metadata": {},
   "outputs": [],
   "source": [
    "provider.trx_status(\n",
    "    signature = swap_executed\n",
    ")"
   ]
  },
  {
   "cell_type": "markdown",
   "id": "27a2f77e-464f-43d5-ba62-5ea0ad339284",
   "metadata": {},
   "source": [
    "### Check balance"
   ]
  },
  {
   "cell_type": "code",
   "execution_count": 4,
   "id": "7b8ee713-fe1b-419e-8dfe-087e2f6554e7",
   "metadata": {},
   "outputs": [
    {
     "data": {
      "text/plain": [
       "Balance(source='Solana', amount=427048614912.0)"
      ]
     },
     "execution_count": 4,
     "metadata": {},
     "output_type": "execute_result"
    }
   ],
   "source": [
    "token_position = provider.get_balance(source_token)\n",
    "token_position"
   ]
  },
  {
   "cell_type": "code",
   "execution_count": null,
   "id": "eca1ddb2-201b-4851-a67d-f18d93886667",
   "metadata": {},
   "outputs": [],
   "source": []
  }
 ],
 "metadata": {
  "kernelspec": {
   "display_name": "Python 3 (ipykernel)",
   "language": "python",
   "name": "python3"
  },
  "language_info": {
   "codemirror_mode": {
    "name": "ipython",
    "version": 3
   },
   "file_extension": ".py",
   "mimetype": "text/x-python",
   "name": "python",
   "nbconvert_exporter": "python",
   "pygments_lexer": "ipython3",
   "version": "3.12.4"
  }
 },
 "nbformat": 4,
 "nbformat_minor": 5
}
